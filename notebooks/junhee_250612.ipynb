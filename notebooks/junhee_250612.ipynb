{
 "cells": [
  {
   "cell_type": "code",
   "execution_count": 1,
   "id": "b42689be",
   "metadata": {},
   "outputs": [
    {
     "name": "stdout",
     "output_type": "stream",
     "text": [
      "총 21,705,813개 레코드 병합 완료\n",
      "유니크 사용자 수: 677,085\n",
      "\n",
      "테이블별 레코드 수:\n",
      "table_name\n",
      "accounts_friendrequest_send              17147175\n",
      "accounts_pointhistory                     2338918\n",
      "accounts_userquestionrecord_processed     1217558\n",
      "accounts_user_processed                    677085\n",
      "polls_questionset                          158384\n",
      "accounts_paymenthistory                     95140\n",
      "polls_questionreport                        51424\n",
      "accounts_blockrecord_processed              19449\n",
      "event_receipts                                309\n",
      "accounts_timelinereport                       208\n",
      "accounts_failpaymenthistory                   163\n",
      "Name: count, dtype: int64\n"
     ]
    }
   ],
   "source": [
    "import pandas as pd\n",
    "import os\n",
    "\n",
    "# 데이터 디렉토리\n",
    "data_dir = \"/home/jovyan/work/data\"\n",
    "\n",
    "all_data = []\n",
    "\n",
    "# 각 테이블에서 데이터 추출\n",
    "tables = [\n",
    "    ('accounts_blockrecord_processed.csv', 'user_id'),\n",
    "    ('accounts_failpaymenthistory.csv', 'user_id'),\n",
    "    ('accounts_paymenthistory.csv', 'user_id'),\n",
    "    ('accounts_pointhistory.csv', 'user_id'),\n",
    "    ('accounts_timelinereport.csv', 'user_id'),\n",
    "    ('accounts_user_processed.csv', 'id'),  # id가 user_id 역할\n",
    "    ('accounts_userquestionrecord_processed.csv', 'user_id'),\n",
    "    ('event_receipts.csv', 'user_id'),\n",
    "    ('polls_questionreport.csv', 'user_id'),\n",
    "    ('polls_questionset.csv', 'user_id')\n",
    "]\n",
    "\n",
    "# 일반 테이블들 처리\n",
    "for file_name, user_col in tables:\n",
    "    df = pd.read_csv(os.path.join(data_dir, file_name))\n",
    "    temp_df = df[[user_col, 'created_at']].copy()\n",
    "    temp_df.columns = ['user_id', 'created_at']\n",
    "    temp_df['table_name'] = file_name.replace('.csv', '')\n",
    "    all_data.append(temp_df)\n",
    "\n",
    "# 친구 요청 테이블 - 보낸 사람만 포함 (능동적 활동)\n",
    "df_friend = pd.read_csv(os.path.join(data_dir, 'accounts_friendrequest.csv'))\n",
    "\n",
    "# 보낸 사람만 (능동적 활동)\n",
    "temp_send = df_friend[['send_user_id', 'created_at']].copy()\n",
    "temp_send.columns = ['user_id', 'created_at']\n",
    "temp_send['table_name'] = 'accounts_friendrequest_send'\n",
    "all_data.append(temp_send)\n",
    "\n",
    "# 모든 데이터 병합\n",
    "merged_df = pd.concat(all_data, ignore_index=True)\n",
    "\n",
    "# created_at을 datetime으로 변환\n",
    "merged_df['created_at'] = pd.to_datetime(merged_df['created_at'], format='ISO8601', errors='coerce')\n",
    "\n",
    "# null 값 제거\n",
    "merged_df = merged_df.dropna(subset=['created_at'])\n",
    "\n",
    "# user_id로 그룹화하고 created_at으로 정렬\n",
    "merged_df = merged_df.sort_values(['user_id', 'created_at']).reset_index(drop=True)\n",
    "\n",
    "print(f\"총 {len(merged_df):,}개 레코드 병합 완료\")\n",
    "print(f\"유니크 사용자 수: {merged_df['user_id'].nunique():,}\")\n",
    "print(\"\\n테이블별 레코드 수:\")\n",
    "print(merged_df['table_name'].value_counts())"
   ]
  },
  {
   "cell_type": "code",
   "execution_count": 2,
   "id": "d55b7610",
   "metadata": {},
   "outputs": [],
   "source": [
    "import pandas as pd\n",
    "import os\n",
    "\n",
    "# 경로 설정\n",
    "data_dir = '/home/jovyan/work/data'\n",
    "\n",
    "# 포인트 이벤트 테이블\n",
    "events = pd.read_csv(os.path.join(data_dir, 'events.csv'))\n",
    "\n",
    "# 출석 테이블\n",
    "accounts_attendance = pd.read_csv(os.path.join(data_dir, 'accounts_attendance.csv'))\n",
    "\n",
    "# 친구 요청 테이블\n",
    "accounts_friendrequest = pd.read_csv(os.path.join(data_dir, 'accounts_friendrequest.csv'))\n",
    "\n",
    "# 학급 테이블\n",
    "accounts_group = pd.read_csv(os.path.join(data_dir, 'accounts_group.csv'))\n",
    "\n",
    "# 가까운 학교를 기록해두기 위한 관계형 테이블\n",
    "accounts_nearbyschool = pd.read_csv(os.path.join(data_dir, 'accounts_nearbyschool.csv'))\n",
    "\n",
    "# 유저 컨택 테이블\n",
    "accounts_user_contacts = pd.read_csv(os.path.join(data_dir, 'accounts_user_contacts.csv'))\n",
    "\n",
    "# 학교 테이블\n",
    "accounts_school = pd.read_csv(os.path.join(data_dir, 'accounts_school.csv'))\n",
    "\n",
    "# 포인트 이벤트 참여 테이블\n",
    "accounts_userwithdraw = pd.read_csv(os.path.join(data_dir, 'accounts_userwithdraw.csv'))\n",
    "\n",
    "# 질문 내용 테이블\n",
    "polls_question = pd.read_csv(os.path.join(data_dir, 'polls_question.csv'))\n",
    "\n",
    "# 질문에 대한 신고 기록 테이블\n",
    "polls_questionpiece = pd.read_csv(os.path.join(data_dir, 'polls_questionpiece.csv'))\n",
    "\n",
    "# 질문에 등장하는 유저들 테이블\n",
    "polls_usercandidate = pd.read_csv(os.path.join(data_dir, 'polls_usercandidate.csv'))"
   ]
  },
  {
   "cell_type": "code",
   "execution_count": 8,
   "id": "9ba02db8",
   "metadata": {},
   "outputs": [
    {
     "name": "stdout",
     "output_type": "stream",
     "text": [
      "사용자 생존기간 테이블 완성: 677,085명\n",
      "   user_id             first_activity              last_activity  total_events\n",
      "0   831956 2023-03-29 03:44:14.047130 2023-03-29 03:44:14.047130             1\n",
      "1   831962 2023-03-29 05:18:56.162368 2023-07-13 07:51:59.000000             2\n",
      "2   832151 2023-03-29 12:56:34.989468 2023-05-09 15:50:58.000000            11\n",
      "3   832340 2023-03-29 12:56:35.020790 2023-05-11 00:51:26.000000            29\n",
      "4   832520 2023-03-29 12:56:35.049311 2023-03-29 12:56:35.049311             1\n",
      "is_churn\n",
      "0    441629\n",
      "1    235456\n",
      "Name: count, dtype: int64\n"
     ]
    }
   ],
   "source": [
    "# 사용자별 생존기간 계산\n",
    "user_survival = merged_df.groupby('user_id').agg({\n",
    "    'created_at': ['first', 'last', 'count']\n",
    "}).reset_index()\n",
    "\n",
    "# 컬럼명 정리\n",
    "user_survival.columns = ['user_id', 'first_activity', 'last_activity', 'total_events']\n",
    "\n",
    "print(f\"사용자 생존기간 테이블 완성: {len(user_survival):,}명\")\n",
    "print(user_survival.head())\n",
    "\n",
    "# 생존일 수 계산 (차이 in days)\n",
    "user_survival['survival_days'] = (user_survival['last_activity'] - user_survival['first_activity']).dt.days\n",
    "\n",
    "# 이탈 유저 (당일 유저): 1, 잔존 유저: 0\n",
    "user_survival['is_churn'] = user_survival['survival_days'].apply(lambda x: 1 if x == 0 else 0)\n",
    "\n",
    "print(user_survival['is_churn'].value_counts())\n",
    "# 1: 이탈 (하루만 활동), 0: 잔존"
   ]
  },
  {
   "cell_type": "code",
   "execution_count": 4,
   "id": "5150f9ef",
   "metadata": {},
   "outputs": [],
   "source": [
    "# merged_df에서 질문 참여 로그만 추출\n",
    "question_logs = merged_df[merged_df['table_name'] == 'accounts_userquestionrecord_processed']\n",
    "question_users_merged = question_logs['user_id'].dropna().unique()\n",
    "\n"
   ]
  },
  {
   "cell_type": "code",
   "execution_count": null,
   "id": "f1b1a95f",
   "metadata": {},
   "outputs": [],
   "source": [
    "# 질문에 등장하는 유저 추출\n",
    "question_users_candidates = polls_usercandidate['user_id'].dropna().unique()\n"
   ]
  },
  {
   "cell_type": "code",
   "execution_count": 6,
   "id": "a982723e",
   "metadata": {},
   "outputs": [],
   "source": [
    "# 통합 질문 유저 목록\n",
    "question_users_total = set(question_users_merged).union(set(question_users_candidates))\n"
   ]
  },
  {
   "cell_type": "code",
   "execution_count": 9,
   "id": "ffce9c95",
   "metadata": {},
   "outputs": [],
   "source": [
    "# 플래그 추가\n",
    "user_survival['has_question_experience'] = user_survival['user_id'].isin(question_users_total)\n"
   ]
  },
  {
   "cell_type": "code",
   "execution_count": 10,
   "id": "8c7db43e",
   "metadata": {},
   "outputs": [
    {
     "name": "stdout",
     "output_type": "stream",
     "text": [
      "                   Retained (0)  Churned (1)\n",
      "No Question Exp.         426237       230845\n",
      "Has Question Exp.         15392         4611\n"
     ]
    }
   ],
   "source": [
    "# 분포 확인\n",
    "cross_tab = pd.crosstab(user_survival['has_question_experience'], user_survival['is_churn'])\n",
    "cross_tab.index = ['No Question Exp.', 'Has Question Exp.']\n",
    "cross_tab.columns = ['Retained (0)', 'Churned (1)']\n",
    "print(cross_tab)\n"
   ]
  },
  {
   "cell_type": "code",
   "execution_count": null,
   "id": "4236dd69",
   "metadata": {},
   "outputs": [
    {
     "ename": "",
     "evalue": "",
     "output_type": "error",
     "traceback": [
      "\u001b[1;31mThe Kernel crashed while executing code in the current cell or a previous cell. \n",
      "\u001b[1;31mPlease review the code in the cell(s) to identify a possible cause of the failure. \n",
      "\u001b[1;31mClick <a href='https://aka.ms/vscodeJupyterKernelCrash'>here</a> for more info. \n",
      "\u001b[1;31mView Jupyter <a href='command:jupyter.viewOutput'>log</a> for further details."
     ]
    }
   ],
   "source": [
    "# 질문 경험이 있는 유저가 잔존율이 더 높음\n",
    "질문 경험 유무\t잔존 유저 (0)\t이탈 유저 (1)\n",
    "❌ 경험 없음\t426,237\t230,845\n",
    "✅ 질문 경험 있음\t15,392\t4,611\n",
    "\n",
    "질문 경험 유저의 잔존율 : 76/97%\n",
    "질문 경험 없는 유저의 잔존율 : 64.86%"
   ]
  },
  {
   "cell_type": "code",
   "execution_count": null,
   "id": "cf1add62",
   "metadata": {},
   "outputs": [],
   "source": [
    "from scipy.stats import chi2_contingency\n",
    "\n",
    "# 교차표를 그대로 사용해도 됨\n",
    "chi2, p, dof, expected = chi2_contingency([\n",
    "    [426237, 230845],\n",
    "    [15392, 4611]\n",
    "])\n",
    "\n",
    "print(f'Chi-square Test p-value: {p:.10f}')\n"
   ]
  }
 ],
 "metadata": {
  "kernelspec": {
   "display_name": "Python 3 (ipykernel)",
   "language": "python",
   "name": "python3"
  },
  "language_info": {
   "codemirror_mode": {
    "name": "ipython",
    "version": 3
   },
   "file_extension": ".py",
   "mimetype": "text/x-python",
   "name": "python",
   "nbconvert_exporter": "python",
   "pygments_lexer": "ipython3",
   "version": "3.11.6"
  }
 },
 "nbformat": 4,
 "nbformat_minor": 5
}
