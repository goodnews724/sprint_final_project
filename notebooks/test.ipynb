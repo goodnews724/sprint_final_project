{
 "cells": [
  {
   "cell_type": "code",
   "execution_count": 13,
   "id": "485c3d16",
   "metadata": {},
   "outputs": [
    {
     "name": "stdout",
     "output_type": "stream",
     "text": [
      "Python 3.11.6\n"
     ]
    }
   ],
   "source": [
    "!python --version"
   ]
  },
  {
   "cell_type": "code",
   "execution_count": 14,
   "id": "89d5b0d6",
   "metadata": {},
   "outputs": [
    {
     "name": "stdout",
     "output_type": "stream",
     "text": [
      "Requirement already satisfied: google-cloud-storage in /opt/conda/lib/python3.11/site-packages (3.1.0)\n",
      "Requirement already satisfied: google-auth<3.0dev,>=2.26.1 in /opt/conda/lib/python3.11/site-packages (from google-cloud-storage) (2.40.2)\n",
      "Requirement already satisfied: google-api-core<3.0.0dev,>=2.15.0 in /opt/conda/lib/python3.11/site-packages (from google-cloud-storage) (2.24.2)\n",
      "Requirement already satisfied: google-cloud-core<3.0dev,>=2.4.2 in /opt/conda/lib/python3.11/site-packages (from google-cloud-storage) (2.4.3)\n",
      "Requirement already satisfied: google-resumable-media>=2.7.2 in /opt/conda/lib/python3.11/site-packages (from google-cloud-storage) (2.7.2)\n",
      "Requirement already satisfied: requests<3.0.0dev,>=2.18.0 in /opt/conda/lib/python3.11/site-packages (from google-cloud-storage) (2.31.0)\n",
      "Requirement already satisfied: google-crc32c<2.0dev,>=1.0 in /opt/conda/lib/python3.11/site-packages (from google-cloud-storage) (1.7.1)\n",
      "Requirement already satisfied: googleapis-common-protos<2.0.0,>=1.56.2 in /opt/conda/lib/python3.11/site-packages (from google-api-core<3.0.0dev,>=2.15.0->google-cloud-storage) (1.70.0)\n",
      "Requirement already satisfied: protobuf!=3.20.0,!=3.20.1,!=4.21.0,!=4.21.1,!=4.21.2,!=4.21.3,!=4.21.4,!=4.21.5,<7.0.0,>=3.19.5 in /opt/conda/lib/python3.11/site-packages (from google-api-core<3.0.0dev,>=2.15.0->google-cloud-storage) (6.31.0)\n",
      "Requirement already satisfied: proto-plus<2.0.0,>=1.22.3 in /opt/conda/lib/python3.11/site-packages (from google-api-core<3.0.0dev,>=2.15.0->google-cloud-storage) (1.26.1)\n",
      "Requirement already satisfied: cachetools<6.0,>=2.0.0 in /opt/conda/lib/python3.11/site-packages (from google-auth<3.0dev,>=2.26.1->google-cloud-storage) (5.5.2)\n",
      "Requirement already satisfied: pyasn1-modules>=0.2.1 in /opt/conda/lib/python3.11/site-packages (from google-auth<3.0dev,>=2.26.1->google-cloud-storage) (0.4.2)\n",
      "Requirement already satisfied: rsa<5,>=3.1.4 in /opt/conda/lib/python3.11/site-packages (from google-auth<3.0dev,>=2.26.1->google-cloud-storage) (4.9.1)\n",
      "Requirement already satisfied: charset-normalizer<4,>=2 in /opt/conda/lib/python3.11/site-packages (from requests<3.0.0dev,>=2.18.0->google-cloud-storage) (3.3.0)\n",
      "Requirement already satisfied: idna<4,>=2.5 in /opt/conda/lib/python3.11/site-packages (from requests<3.0.0dev,>=2.18.0->google-cloud-storage) (3.4)\n",
      "Requirement already satisfied: urllib3<3,>=1.21.1 in /opt/conda/lib/python3.11/site-packages (from requests<3.0.0dev,>=2.18.0->google-cloud-storage) (2.0.7)\n",
      "Requirement already satisfied: certifi>=2017.4.17 in /opt/conda/lib/python3.11/site-packages (from requests<3.0.0dev,>=2.18.0->google-cloud-storage) (2023.7.22)\n",
      "Requirement already satisfied: pyasn1<0.7.0,>=0.6.1 in /opt/conda/lib/python3.11/site-packages (from pyasn1-modules>=0.2.1->google-auth<3.0dev,>=2.26.1->google-cloud-storage) (0.6.1)\n"
     ]
    }
   ],
   "source": [
    "!pip install google-cloud-storage"
   ]
  },
  {
   "cell_type": "code",
   "execution_count": 15,
   "id": "a699e4d0",
   "metadata": {},
   "outputs": [],
   "source": [
    "import pandas as pd"
   ]
  },
  {
   "cell_type": "code",
   "execution_count": 16,
   "id": "2dfef8d8",
   "metadata": {},
   "outputs": [
    {
     "name": "stdout",
     "output_type": "stream",
     "text": [
      "키 파일 경로: /home/jovyan/work/secrets/sprintda05-hojae2-jihyun.json\n",
      "✅ 연결 성공! 프로젝트: sprintda05-hojae2\n",
      "버킷 개수: 1\n",
      "  - sprintda05_final_project\n"
     ]
    }
   ],
   "source": [
    "# 빠른 연결 테스트용\n",
    "import os\n",
    "from google.cloud import storage\n",
    "\n",
    "# .env 파일이 docker-compose.yaml의 env_file로 로드되므로\n",
    "# 환경 변수가 이미 설정되어 있음!\n",
    "\n",
    "try:\n",
    "    # 환경 변수 확인\n",
    "    print(f\"키 파일 경로: {os.environ.get('GOOGLE_APPLICATION_CREDENTIALS')}\")\n",
    "    \n",
    "    # 바로 사용 가능\n",
    "    client = storage.Client()\n",
    "    print(f\"✅ 연결 성공! 프로젝트: {client.project}\")\n",
    "    \n",
    "    buckets = list(client.list_buckets())\n",
    "    print(f\"버킷 개수: {len(buckets)}\")\n",
    "    \n",
    "    # 버킷 목록\n",
    "    for bucket in buckets:\n",
    "        print(f\"  - {bucket.name}\")\n",
    "        \n",
    "except Exception as e:\n",
    "    print(f\"❌ 연결 실패: {e}\")\n",
    "\n",
    "\n",
    "# # 안되는사람\n",
    "# # 빠른 연결 테스트용\n",
    "# import os\n",
    "# from google.cloud import storage\n",
    "\n",
    "# # JSON 키 파일 경로 설정\n",
    "# os.environ['GOOGLE_APPLICATION_CREDENTIALS'] = [.env에 작성했던 경로 집어넣기]\n",
    "\n",
    "# try:\n",
    "#     client = storage.Client()\n",
    "#     print(f\"✅ 연결 성공! 프로젝트: {client.project}\")\n",
    "#     buckets = list(client.list_buckets())\n",
    "#     print(f\"버킷 개수: {len(buckets)}\")\n",
    "# except Exception as e:\n",
    "#     print(f\"❌ 연결 실패: {e}\")"
   ]
  },
  {
   "cell_type": "markdown",
   "id": "34b45380",
   "metadata": {},
   "source": [
    "## 호재의 작업 공간"
   ]
  },
  {
   "cell_type": "code",
   "execution_count": 13,
   "id": "b416e83f",
   "metadata": {},
   "outputs": [
    {
     "name": "stdout",
     "output_type": "stream",
     "text": [
      "난 바보다\n"
     ]
    }
   ],
   "source": [
    "print(\"난 바보다\")"
   ]
  },
  {
   "cell_type": "markdown",
   "id": "8cea6b71",
   "metadata": {},
   "source": [
    "## 수진의 작업 공간"
   ]
  },
  {
   "cell_type": "code",
   "execution_count": null,
   "id": "a867e553",
   "metadata": {},
   "outputs": [],
   "source": []
  },
  {
   "cell_type": "markdown",
   "id": "1b30e248",
   "metadata": {},
   "source": [
    "## 우형의 작업 공간"
   ]
  },
  {
   "cell_type": "code",
   "execution_count": null,
   "id": "3ee898b1",
   "metadata": {},
   "outputs": [],
   "source": []
  },
  {
   "cell_type": "markdown",
   "id": "b92180fb",
   "metadata": {},
   "source": [
    "## 준희의 작업 공간"
   ]
  },
  {
   "cell_type": "code",
   "execution_count": null,
   "id": "353065ca",
   "metadata": {},
   "outputs": [],
   "source": []
  },
  {
   "cell_type": "markdown",
   "id": "528573b6",
   "metadata": {},
   "source": [
    "## 재문의 작업 공간"
   ]
  },
  {
   "cell_type": "code",
   "execution_count": null,
   "id": "32cb0608",
   "metadata": {},
   "outputs": [],
   "source": []
  },
  {
   "cell_type": "markdown",
   "id": "cbe0d70a",
   "metadata": {},
   "source": [
    "## 지현의 작업 공간"
   ]
  },
  {
   "cell_type": "code",
   "execution_count": 2,
   "id": "ce25e699",
   "metadata": {},
   "outputs": [
    {
     "name": "stdout",
     "output_type": "stream",
     "text": [
      "난 바보가 맞다\n"
     ]
    }
   ],
   "source": [
    "print(\"난 바보가 맞다\")"
   ]
  }
 ],
 "metadata": {
  "kernelspec": {
   "display_name": "Python 3 (ipykernel)",
   "language": "python",
   "name": "python3"
  },
  "language_info": {
   "codemirror_mode": {
    "name": "ipython",
    "version": 3
   },
   "file_extension": ".py",
   "mimetype": "text/x-python",
   "name": "python",
   "nbconvert_exporter": "python",
   "pygments_lexer": "ipython3",
   "version": "3.11.6"
  }
 },
 "nbformat": 4,
 "nbformat_minor": 5
}
