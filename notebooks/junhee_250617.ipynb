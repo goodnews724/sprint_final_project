{
 "cells": [
  {
   "cell_type": "code",
   "execution_count": 1,
   "id": "793be60c",
   "metadata": {},
   "outputs": [
    {
     "name": "stdout",
     "output_type": "stream",
     "text": [
      "총 21,705,813개 레코드 병합 완료\n",
      "유니크 사용자 수: 677,085\n",
      "\n",
      "테이블별 레코드 수:\n",
      "table_name\n",
      "accounts_friendrequest_send              17147175\n",
      "accounts_pointhistory                     2338918\n",
      "accounts_userquestionrecord_processed     1217558\n",
      "accounts_user_processed                    677085\n",
      "polls_questionset                          158384\n",
      "accounts_paymenthistory                     95140\n",
      "polls_questionreport                        51424\n",
      "accounts_blockrecord_processed              19449\n",
      "event_receipts                                309\n",
      "accounts_timelinereport                       208\n",
      "accounts_failpaymenthistory                   163\n",
      "Name: count, dtype: int64\n"
     ]
    }
   ],
   "source": [
    "import pandas as pd\n",
    "import os\n",
    "\n",
    "# 데이터 디렉토리\n",
    "data_dir = \"/home/jovyan/work/data\"\n",
    "\n",
    "all_data = []\n",
    "\n",
    "# 각 테이블에서 데이터 추출\n",
    "tables = [\n",
    "    ('accounts_blockrecord_processed.csv', 'user_id'),\n",
    "    ('accounts_failpaymenthistory.csv', 'user_id'),\n",
    "    ('accounts_paymenthistory.csv', 'user_id'),\n",
    "    ('accounts_pointhistory.csv', 'user_id'),\n",
    "    ('accounts_timelinereport.csv', 'user_id'),\n",
    "    ('accounts_user_processed.csv', 'id'),  # id가 user_id 역할\n",
    "    ('accounts_userquestionrecord_processed.csv', 'user_id'),\n",
    "    ('event_receipts.csv', 'user_id'),\n",
    "    ('polls_questionreport.csv', 'user_id'),\n",
    "    ('polls_questionset.csv', 'user_id')\n",
    "]\n",
    "\n",
    "# 일반 테이블들 처리\n",
    "for file_name, user_col in tables:\n",
    "    df = pd.read_csv(os.path.join(data_dir, file_name))\n",
    "    temp_df = df[[user_col, 'created_at']].copy()\n",
    "    temp_df.columns = ['user_id', 'created_at']\n",
    "    temp_df['table_name'] = file_name.replace('.csv', '')\n",
    "    all_data.append(temp_df)\n",
    "\n",
    "# 친구 요청 테이블 - 보낸 사람만 포함 (능동적 활동)\n",
    "df_friend = pd.read_csv(os.path.join(data_dir, 'accounts_friendrequest.csv'))\n",
    "\n",
    "# 보낸 사람만 (능동적 활동)\n",
    "temp_send = df_friend[['send_user_id', 'created_at']].copy()\n",
    "temp_send.columns = ['user_id', 'created_at']\n",
    "temp_send['table_name'] = 'accounts_friendrequest_send'\n",
    "all_data.append(temp_send)\n",
    "\n",
    "# 모든 데이터 병합\n",
    "merged_df = pd.concat(all_data, ignore_index=True)\n",
    "\n",
    "# created_at을 datetime으로 변환\n",
    "merged_df['created_at'] = pd.to_datetime(merged_df['created_at'], format='ISO8601', errors='coerce')\n",
    "\n",
    "# null 값 제거\n",
    "merged_df = merged_df.dropna(subset=['created_at'])\n",
    "\n",
    "# user_id로 그룹화하고 created_at으로 정렬\n",
    "merged_df = merged_df.sort_values(['user_id', 'created_at']).reset_index(drop=True)\n",
    "\n",
    "print(f\"총 {len(merged_df):,}개 레코드 병합 완료\")\n",
    "print(f\"유니크 사용자 수: {merged_df['user_id'].nunique():,}\")\n",
    "print(\"\\n테이블별 레코드 수:\")\n",
    "print(merged_df['table_name'].value_counts())"
   ]
  },
  {
   "cell_type": "code",
   "execution_count": 2,
   "id": "eb3ed1c2",
   "metadata": {},
   "outputs": [],
   "source": [
    "import pandas as pd\n",
    "import os\n",
    "\n",
    "# 데이터 경로\n",
    "data_dir = '/home/jovyan/work/data'\n",
    "\n",
    "# 사용자 질문 기록 테이블\n",
    "uq_record = pd.read_csv(os.path.join(data_dir, 'accounts_userquestionrecord_processed.csv'))\n",
    "\n",
    "# 유저 정보 테이블\n",
    "user_df = pd.read_csv(os.path.join(data_dir, 'accounts_user_processed.csv'))\n",
    "user_df = user_df.rename(columns={'id': 'user_id'})  # id → user_id로 통일"
   ]
  },
  {
   "cell_type": "code",
   "execution_count": 6,
   "id": "283f1cf6",
   "metadata": {},
   "outputs": [],
   "source": [
    "# 공개 질문 상태: 'status' == 'C'\n",
    "uq_record_public = uq_record[uq_record['status'] == 'C']\n",
    "\n",
    "# 공개 질문 기록이 있는 유저 목록\n",
    "public_users = uq_record_public['user_id'].unique()\n",
    "\n",
    "# user_df에 공개 질문 여부 변수 추가\n",
    "user_df['has_public_question'] = user_df['user_id'].isin(public_users).astype(int)\n"
   ]
  },
  {
   "cell_type": "code",
   "execution_count": 7,
   "id": "3ef9cb02",
   "metadata": {},
   "outputs": [
    {
     "name": "stdout",
     "output_type": "stream",
     "text": [
      "사용자 생존기간 테이블 완성: 677,085명\n",
      "   user_id             first_activity              last_activity  total_events\n",
      "0   831956 2023-03-29 03:44:14.047130 2023-03-29 03:44:14.047130             1\n",
      "1   831962 2023-03-29 05:18:56.162368 2023-07-13 07:51:59.000000             2\n",
      "2   832151 2023-03-29 12:56:34.989468 2023-05-09 15:50:58.000000            11\n",
      "3   832340 2023-03-29 12:56:35.020790 2023-05-11 00:51:26.000000            29\n",
      "4   832520 2023-03-29 12:56:35.049311 2023-03-29 12:56:35.049311             1\n",
      "is_churn\n",
      "0    441629\n",
      "1    235456\n",
      "Name: count, dtype: int64\n"
     ]
    }
   ],
   "source": [
    "# 사용자별 생존기간 계산\n",
    "user_survival = merged_df.groupby('user_id').agg({\n",
    "    'created_at': ['first', 'last', 'count']\n",
    "}).reset_index()\n",
    "\n",
    "# 컬럼명 정리\n",
    "user_survival.columns = ['user_id', 'first_activity', 'last_activity', 'total_events']\n",
    "\n",
    "print(f\"사용자 생존기간 테이블 완성: {len(user_survival):,}명\")\n",
    "print(user_survival.head())\n",
    "\n",
    "# 생존일 수 계산 (차이 in days)\n",
    "user_survival['survival_days'] = (user_survival['last_activity'] - user_survival['first_activity']).dt.days\n",
    "\n",
    "# 이탈 유저 (당일 유저): 1, 잔존 유저: 0\n",
    "user_survival['is_churn'] = user_survival['survival_days'].apply(lambda x: 1 if x == 0 else 0)\n",
    "\n",
    "print(user_survival['is_churn'].value_counts())\n",
    "# 1: 이탈 (하루만 활동), 0: 잔존"
   ]
  },
  {
   "cell_type": "code",
   "execution_count": 8,
   "id": "bdf7ada6",
   "metadata": {},
   "outputs": [],
   "source": [
    "# 병합\n",
    "user_df = user_df.merge(user_survival[['user_id', 'is_churn']], on='user_id', how='left')\n",
    "user_df['is_churn'] = user_df['is_churn'].fillna(1).astype(int)  # 활동 없는 유저는 이탈로 간주\n"
   ]
  },
  {
   "cell_type": "code",
   "execution_count": 9,
   "id": "5b837ef7",
   "metadata": {},
   "outputs": [
    {
     "name": "stdout",
     "output_type": "stream",
     "text": [
      "✅ 교차표:\n",
      "is_churn                  0       1\n",
      "has_public_question                \n",
      "0                    436800  235441\n",
      "1                      4829      15\n",
      "\n",
      "Chi2 = 2553.55, p-value = 0.0000000000\n"
     ]
    }
   ],
   "source": [
    "from scipy.stats import chi2_contingency\n",
    "\n",
    "# 교차표: 공개 질문 여부 vs 이탈 여부\n",
    "ct = pd.crosstab(user_df['has_public_question'], user_df['is_churn'])\n",
    "\n",
    "# 카이제곱 검정\n",
    "chi2, p, dof, expected = chi2_contingency(ct)\n",
    "\n",
    "print('✅ 교차표:')\n",
    "print(ct)\n",
    "print(f'\\nChi2 = {chi2:.2f}, p-value = {p:.10f}')\n"
   ]
  },
  {
   "cell_type": "markdown",
   "id": "bdd822f0",
   "metadata": {},
   "source": [
    "| 공개 질문 여부 (`has_public_question`) | 잔존자 수 (`is_churn=0`) | 이탈자 수 (`is_churn=1`) | 잔존율       |\n",
    "| :------------------------------- | -------------------- | -------------------- | --------- |\n",
    "| 0 (공개 질문 없음)                     | 436,800              | 235,441              | 65.0%     |\n",
    "| 1 (공개 질문 있음)                     | 4,829                | 15                   | **99.7%** |\n",
    "\n",
    "\n",
    "🧪 카이제곱 독립성 검정\n",
    "Chi² = 2553.55\n",
    "\n",
    "p-value < 0.001\n",
    "→ 공개 질문 여부와 잔존 여부 사이에는 매우 강한 통계적 연관성이 존재\n",
    "\n",
    "✅ 결론\n",
    "공개 질문을 한 유저는 **압도적으로 높은 잔존율(99.7%)**을 보임\n",
    "\n",
    "이는 **“초기 적극적 공개 질문 활동이 사용자 이탈을 억제할 수 있다”**는 중요한 시사점을 제공\n",
    "\n",
    "비록 공개 질문 유저 수 자체는 적지만, 그들의 생존 비율이 매우 높다는 점에서 중요 사용자 세그먼트로 분류 가능\n",
    "\n",
    "📌 주의사항\n",
    "전체 유저 대비 공개 질문 유저 수가 매우 적기 때문에 표본 불균형 주의\n",
    "\n",
    "기대 빈도가 5 미만인 셀 존재 (특히 공개+이탈 셀: 15건) → Fisher의 정확 검정 병행 고려 가능\n",
    "\n",
    "-> 스케일 차이가 애매해서 아래에서 fisher검정 시행함\n"
   ]
  },
  {
   "cell_type": "code",
   "execution_count": 10,
   "id": "39f12223",
   "metadata": {},
   "outputs": [
    {
     "name": "stdout",
     "output_type": "stream",
     "text": [
      "Odds Ratio: 173.526\n",
      "p-value: 0.0000000000\n"
     ]
    }
   ],
   "source": [
    "import pandas as pd\n",
    "from scipy.stats import fisher_exact\n",
    "\n",
    "# 교차표 수치 입력\n",
    "# [[has_public=1 & not churned, has_public=1 & churned],\n",
    "#  [has_public=0 & not churned, has_public=0 & churned]]\n",
    "contingency_table = [[4829, 15], [436800, 235441]]\n",
    "\n",
    "# Fisher의 정확 검정 수행\n",
    "oddsratio, p_value = fisher_exact(contingency_table)\n",
    "\n",
    "oddsratio, p_value\n",
    "\n",
    "print(f'Odds Ratio: {oddsratio:.3f}')\n",
    "print(f'p-value: {p_value:.10f}')  # 소수점 이하 10자리\n",
    "\n"
   ]
  },
  {
   "cell_type": "markdown",
   "id": "a9956836",
   "metadata": {},
   "source": [
    "오즈비 (Odds Ratio): 173.53\n",
    "\n",
    "p-value: < 0.001\n",
    "\n",
    "즉, 공개 질문이 있는 유저는 없는 유저에 비해 잔존할 확률이 매우 높다는 통계적으로 유의미한 결과가 나타났습니다.    \n",
    "카이제곱 검정에서의 기대빈도 제한이 걱정될 때 Fisher의 검정으로도 동일한 방향성과 유의성이 확인되었습니다. "
   ]
  },
  {
   "cell_type": "code",
   "execution_count": null,
   "id": "c16aa2d8",
   "metadata": {},
   "outputs": [],
   "source": []
  },
  {
   "cell_type": "markdown",
   "id": "2fa15be5",
   "metadata": {},
   "source": [
    "## ✅ 가설 3\n",
    "\n",
    "> **“타임라인에 공개 답변을 남긴 유저는 서비스를 지속적으로 이용할 가능성이 높다.”**\n",
    "\n",
    "---\n",
    "\n",
    "### 🔍 분석 개요\n",
    "\n",
    "- **데이터**\n",
    "  - `accounts_userquestionrecord_processed.csv`: 유저별 공개 답변 여부\n",
    "  - `merged_df`: 유저별 전체 활동 기록 → 생존일 수 계산\n",
    "\n",
    "- **종속 변수 (`is_churn`)**\n",
    "  - `1`: 당일 이탈 유저\n",
    "  - `0`: 2일 이상 활동한 잔존 유저\n",
    "\n",
    "- **독립 변수 (`has_public_question`)**\n",
    "  - `1`: 공개 답변 기록 있음\n",
    "  - `0`: 없음\n",
    "\n",
    "---\n",
    "\n",
    "### 📊 1. 교차표 및 카이제곱 검정\n",
    "\n",
    "| 공개 답변 여부 | 잔존 유저 수 | 이탈 유저 수 | 잔존율 |\n",
    "|----------------|--------------|--------------|--------|\n",
    "| ❌ 없음         | 436,800      | 235,441      | 65.0%  |\n",
    "| ✅ 있음         | 4,829        | 15           | 99.7%  |\n",
    "\n",
    "- **Chi² = 2553.55**, **p < 0.000000**\n",
    "- → 통계적으로 유의한 연관 관계가 있음\n",
    "\n",
    "---\n",
    "\n",
    "### 🧪 2. Fisher의 정확 검정\n",
    "\n",
    "- **오즈비 (Odds Ratio)**: **173.53**\n",
    "- **p-value**: **< 0.00000**\n",
    "\n",
    "> 공개 질문이 있는 유저는 없는 유저에 비해 **잔존할 확률이 매우 높음**  \n",
    "> 기대빈도 제한이 걱정되는 카이제곱 검정의 한계를 보완하며, **동일한 방향성과 유의성** 확인\n",
    "\n",
    "---\n",
    "\n",
    "### 🧠 해석 요약\n",
    "\n",
    "- 공개 답변을 작성한 유저는 서비스에 **높은 비율로 잔존**\n",
    "- 실제 오즈비가 매우 크고 통계적으로도 유의함\n",
    "- **공개 답변 유저 수는 전체에서 적지만**, 이들의 행동은 **잔존과 강한 연관성**을 보임\n",
    "- 타임라인 기능 활용이 사용자 이탈 방지에 기여할 수 있음을 시사\n",
    "\n",
    "---\n",
    "\n"
   ]
  },
  {
   "cell_type": "code",
   "execution_count": 11,
   "id": "7b1e6905",
   "metadata": {},
   "outputs": [],
   "source": [
    "user_survival['survival_days'] = (user_survival['last_activity'] - user_survival['first_activity']).dt.days\n",
    "user_survival['is_churn'] = user_survival['survival_days'].apply(lambda x: 1 if x == 0 else 0)\n"
   ]
  },
  {
   "cell_type": "code",
   "execution_count": 12,
   "id": "44997f07",
   "metadata": {},
   "outputs": [
    {
     "name": "stdout",
     "output_type": "stream",
     "text": [
      "Index(['user_id', 'is_superuser', 'is_staff', 'gender', 'point',\n",
      "       'friend_id_list', 'is_push_on', 'created_at', 'block_user_id_list',\n",
      "       'hide_user_id_list', 'ban_status', 'report_count', 'alarm_count',\n",
      "       'pending_chat', 'pending_votes', 'group_id', 'friend_count',\n",
      "       'is_point_specialist', 'is_friend_specialist', 'is_specialist',\n",
      "       'specialist_type', 'has_public_question', 'is_churn_x', 'is_churn_y'],\n",
      "      dtype='object')\n"
     ]
    }
   ],
   "source": [
    "user_plot_df = user_df.merge(user_survival[['user_id', 'is_churn']], on='user_id', how='left')\n",
    "print(user_plot_df.columns)  # 'is_churn' 있는지 확인\n"
   ]
  },
  {
   "cell_type": "code",
   "execution_count": 13,
   "id": "57bf63ca",
   "metadata": {},
   "outputs": [],
   "source": [
    "# merged_df에서 사용자별 활동 기간 정리\n",
    "user_survival = merged_df.groupby('user_id').agg({\n",
    "    'created_at': ['first', 'last', 'count']\n",
    "}).reset_index()\n",
    "\n",
    "# 컬럼명 정리\n",
    "user_survival.columns = ['user_id', 'first_activity', 'last_activity', 'total_events']\n",
    "\n",
    "# 생존일 수 계산\n",
    "user_survival['survival_days'] = (user_survival['last_activity'] - user_survival['first_activity']).dt.days\n",
    "\n",
    "# 이탈 여부 (하루만 활동한 유저는 이탈자로 간주)\n",
    "user_survival['is_churn'] = user_survival['survival_days'].apply(lambda x: 1 if x == 0 else 0)\n"
   ]
  },
  {
   "cell_type": "code",
   "execution_count": 14,
   "id": "f0bdbda1",
   "metadata": {},
   "outputs": [],
   "source": [
    "# user_df에 공개질문 여부가 있다고 가정\n",
    "# user_survival과 병합\n",
    "user_plot_df = user_df.merge(user_survival[['user_id', 'is_churn']], on='user_id', how='left')"
   ]
  },
  {
   "cell_type": "code",
   "execution_count": 17,
   "id": "e46a3daf",
   "metadata": {},
   "outputs": [
    {
     "name": "stdout",
     "output_type": "stream",
     "text": [
      "✅ 교차표:\n",
      " is_churn                  0       1\n",
      "has_public_question                \n",
      "0                    436800  235441\n",
      "1                      4829      15\n",
      "\n",
      "✅ 비율:\n",
      " is_churn  has_public_question         0         1\n",
      "0                           0  0.649767  0.350233\n",
      "1                           1  0.996903  0.003097\n"
     ]
    }
   ],
   "source": [
    "# 교차표 확인\n",
    "ct = pd.crosstab(user_df['has_public_question'], user_df['is_churn'])\n",
    "print('✅ 교차표:\\n', ct)\n",
    "\n",
    "# 비율 계산\n",
    "prop_df = ct.div(ct.sum(axis=1), axis=0).reset_index()\n",
    "print('\\n✅ 비율:\\n', prop_df)\n"
   ]
  },
  {
   "cell_type": "code",
   "execution_count": 19,
   "id": "fd29ec5c",
   "metadata": {},
   "outputs": [
    {
     "data": {
      "image/png": "[encoded data removed]",
      "text/plain": [
       "<Figure size 600x400 with 1 Axes>"
      ]
     },
     "metadata": {},
     "output_type": "display_data"
    }
   ],
   "source": [
    "import seaborn as sns\n",
    "import matplotlib.pyplot as plt\n",
    "\n",
    "# Melt the proportion DataFrame for plotting\n",
    "# 비율 데이터프레임을 그래프 그리기 위한 형식으로 변형\n",
    "plot_df = prop_df.melt(id_vars='has_public_question', var_name='is_churn', value_name='ratio')\n",
    "\n",
    "# Plot the bar chart\n",
    "# 막대 그래프 그리기\n",
    "plt.figure(figsize=(6, 4))\n",
    "sns.barplot(data=plot_df, x='has_public_question', y='ratio', hue='is_churn')\n",
    "plt.title('Retention vs. Churn by Public Question Posting')  # 공개 질문 여부에 따른 잔존/이탈 비율\n",
    "plt.xlabel('Has Public Question (0 = No, 1 = Yes)')  # 공개 질문 여부\n",
    "plt.ylabel('Proportion')  # 비율\n",
    "plt.ylim(0, 1.05)\n",
    "plt.legend(title='is_churn (0 = Retained, 1 = Churned)')  # 잔존/이탈 여부\n",
    "plt.tight_layout()\n",
    "plt.show()\n"
   ]
  },
  {
   "cell_type": "code",
   "execution_count": null,
   "id": "f3ec3528",
   "metadata": {},
   "outputs": [],
   "source": []
  }
 ],
 "metadata": {
  "kernelspec": {
   "display_name": "Python 3 (ipykernel)",
   "language": "python",
   "name": "python3"
  }
 },
 "nbformat": 4,
 "nbformat_minor": 5
}
