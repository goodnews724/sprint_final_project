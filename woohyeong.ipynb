{
 "cells": [
  {
   "cell_type": "code",
   "execution_count": 2,
   "id": "ae52f7c3",
   "metadata": {},
   "outputs": [],
   "source": [
    "# (hackle 관련 데이터)\n",
    "\n",
    "import pandas as pd\n",
    "\n",
    "# hackle_events = pd.read_parquet('C:/Users/User/Desktop/codeit.ds/final_project/final_project_data/hackle/hackle_events.parquet')\n",
    "hackle_events = pd.read_parquet('C:/Users/User/Desktop/codeit.ds/final_project/final_project_data/hackle/processed_hackle_events_processed.parquet') # 전처리 데이터\n",
    "hackle_device_properties = pd.read_parquet('C:/Users/User/Desktop/codeit.ds/final_project/final_project_data/hackle/device_properties.parquet')\n",
    "hackle_user_properties = pd.read_parquet('C:/Users/User/Desktop/codeit.ds/final_project/final_project_data/hackle/user_properties.parquet')\n",
    "hackle_properties = pd.read_parquet('C:/Users/User/Desktop/codeit.ds/final_project/final_project_data/hackle/hackle_properties.parquet')\n"
   ]
  },
  {
   "cell_type": "code",
   "execution_count": 3,
   "id": "aa03e1b8",
   "metadata": {},
   "outputs": [],
   "source": [
    "# (votes 관련 데이터)\n",
    "\n",
    "import pandas as pd\n",
    "\n",
    "accounts_attendance = pd.read_parquet('C:/Users/User/Desktop/codeit.ds/final_project/final_project_data/votes/accounts_attendance.parquet') # 출석 테이블\n",
    "# accounts_blockrecord = pd.read_parquet('C:/Users/User/Desktop/codeit.ds/final_project/final_project_data/votes/accounts_blockrecord.parquet')\n",
    "accounts_blockrecord = pd.read_parquet('C:/Users/User/Desktop/codeit.ds/final_project/final_project_data/votes/processed_accounts_blockrecord_processed.parquet') # 차단 기록 테이블 (전처리)\n",
    "accounts_failpaymenthistory = pd.read_parquet('C:/Users/User/Desktop/codeit.ds/final_project/final_project_data/votes/accounts_failpaymenthistory.parquet') # 상품 구매 실패 기록 테이블\n",
    "accounts_friendrequest = pd.read_parquet('C:/Users/User/Desktop/codeit.ds/final_project/final_project_data/votes/accounts_friendrequest.parquet') # 친구 요청 테이블\n",
    "accounts_group = pd.read_parquet('C:/Users/User/Desktop/codeit.ds/final_project/final_project_data/votes/accounts_group.parquet') # 학급 테이블\n",
    "accounts_nearbyschool = pd.read_parquet('C:/Users/User/Desktop/codeit.ds/final_project/final_project_data/votes/accounts_nearbyschool.parquet') # 가까운 학교를 기록해두기 위한 관계형 테이블\n",
    "accounts_paymenthistory = pd.read_parquet('C:/Users/User/Desktop/codeit.ds/final_project/final_project_data/votes/accounts_paymenthistory.parquet') # 구매 기록 테이블\n",
    "accounts_user_contacts = pd.read_parquet('C:/Users/User/Desktop/codeit.ds/final_project/final_project_data/votes/accounts_user_contacts.parquet') # 유저 컨택 테이블\n",
    "accounts_pointhistory = pd.read_parquet('C:/Users/User/Desktop/codeit.ds/final_project/final_project_data/votes/accounts_pointhistory.parquet') # 포인트 기록 테이블\n",
    "accounts_school = pd.read_parquet('C:/Users/User/Desktop/codeit.ds/final_project/final_project_data/votes/accounts_school.parquet') # 학교 테이블\n",
    "accounts_timelinereport = pd.read_parquet('C:/Users/User/Desktop/codeit.ds/final_project/final_project_data/votes/accounts_timelinereport.parquet') # 유저 신고 기록 테이블\n",
    "# accounts_user = pd.read_parquet('C:/Users/User/Desktop/codeit.ds/final_project/final_project_data/votes/accounts_user.parquet')\n",
    "accounts_user = pd.read_parquet('C:/Users/User/Desktop/codeit.ds/final_project/final_project_data/votes/processed_accounts_user_processed.parquet') # 유저 테이블 (전처리)\n",
    "# accounts_userquestionrecord = pd.read_parquet('C:/Users/User/Desktop/codeit.ds/final_project/final_project_data/votes/accounts_userquestionrecord.parquet')\n",
    "accounts_userquestionrecord = pd.read_parquet('C:/Users/User/Desktop/codeit.ds/final_project/final_project_data/votes/processed_accounts_userquestionrecord_processed.parquet') # 투표 기록 테이블 (전처리)\n",
    "accounts_userwithdraw = pd.read_parquet('C:/Users/User/Desktop/codeit.ds/final_project/final_project_data/votes/accounts_userwithdraw.parquet') # 포인트 이벤트 참여 테이블\n",
    "event_receipts = pd.read_parquet('C:/Users/User/Desktop/codeit.ds/final_project/final_project_data/votes/event_receipts.parquet')\n",
    "events = pd.read_parquet('C:/Users/User/Desktop/codeit.ds/final_project/final_project_data/votes/events.parquet') # 포인트 이벤트 테이블\n",
    "polls_question = pd.read_parquet('C:/Users/User/Desktop/codeit.ds/final_project/final_project_data/votes/polls_question.parquet') # 질문 내용 테이블\n",
    "polls_questionpiece = pd.read_parquet('C:/Users/User/Desktop/codeit.ds/final_project/final_project_data/votes/polls_questionpiece.parquet') # 질문 내용에 대한 신고 기록 테이블\n",
    "polls_questionreport = pd.read_parquet('C:/Users/User/Desktop/codeit.ds/final_project/final_project_data/votes/polls_questionreport.parquet')\n",
    "polls_questionset = pd.read_parquet('C:/Users/User/Desktop/codeit.ds/final_project/final_project_data/votes/polls_questionset.parquet') # 질문 세트 테이블\n",
    "polls_usercandidate = pd.read_parquet('C:/Users/User/Desktop/codeit.ds/final_project/final_project_data/votes/polls_usercandidate.parquet') # 질문에 등장하는 유저들 테이블"
   ]
  },
  {
   "cell_type": "code",
   "execution_count": null,
   "id": "f995a2fa",
   "metadata": {},
   "outputs": [],
   "source": []
  },
  {
   "cell_type": "markdown",
   "id": "e1cec87e",
   "metadata": {},
   "source": [
    "# 구매 기록 테이블 EDA"
   ]
  },
  {
   "cell_type": "code",
   "execution_count": null,
   "id": "29fd67f2",
   "metadata": {},
   "outputs": [],
   "source": [
    "# 구매 기록 테이블  (23년 5월 ~ 24년 5월)\n",
    "display(accounts_paymenthistory.sort_values(by='created_at'))\n",
    "\n",
    "print('구매한 유저 수:', accounts_paymenthistory['user_id'].nunique(),'\\n')\n",
    "print(accounts_paymenthistory['productId'].value_counts(),'\\n')\n",
    "print('IOS와 Android:', accounts_paymenthistory['phone_type'].value_counts())\n"
   ]
  },
  {
   "cell_type": "code",
   "execution_count": null,
   "id": "6d23d549",
   "metadata": {},
   "outputs": [],
   "source": [
    "# 구매 시간과 포인트 획득 시간이 같은 데이터\n",
    "temp = accounts_paymenthistory.merge(accounts_pointhistory, how='inner', on='user_id').sort_values(by = 'delta_point')\n",
    "temp[temp['created_at_x'] == temp['created_at_y']]"
   ]
  },
  {
   "cell_type": "code",
   "execution_count": null,
   "id": "caf568bc",
   "metadata": {},
   "outputs": [],
   "source": [
    "# heart.4000 상품을 구매한 데이터의 포인트\n",
    "\n",
    "temp = accounts_paymenthistory.merge(accounts_pointhistory, how='left', on='user_id').sort_values(by = 'delta_point')\n",
    "temp = temp[temp['productId'] == 'heart.4000']\n",
    "temp[temp['created_at_x'] == temp['created_at_y']]\n",
    "\n",
    "# heart.4000 상품을 구매했으나 포인트 기록 데이터에서는 기록되지 않음"
   ]
  },
  {
   "cell_type": "markdown",
   "id": "6836a6a3",
   "metadata": {},
   "source": [
    "# 포인트 기록 테이블 EDA"
   ]
  },
  {
   "cell_type": "code",
   "execution_count": null,
   "id": "a0660353",
   "metadata": {},
   "outputs": [],
   "source": [
    "# 포인트 기록 테이블\n",
    "display(accounts_pointhistory)\n",
    "\n",
    "display(accounts_pointhistory[accounts_pointhistory['delta_point'] < 0])\n",
    "\n",
    "print('포인트 사용: ', accounts_pointhistory[accounts_pointhistory['delta_point'] < 0]['delta_point'].value_counts(), '\\n')\n",
    "print('포인트 획득: ', accounts_pointhistory[accounts_pointhistory['delta_point'] > 0]['delta_point'].value_counts(), '\\n')\n",
    "print('포인트 획득 nuinque: ', accounts_pointhistory[accounts_pointhistory['delta_point'] > 0]['delta_point'].nunique())"
   ]
  },
  {
   "cell_type": "code",
   "execution_count": null,
   "id": "57e991dd",
   "metadata": {},
   "outputs": [],
   "source": [
    "# 포인트별 획득 비율 \n",
    "\n",
    "pd.set_option('display.max_rows', None)\n",
    "\n",
    "print(accounts_pointhistory[accounts_pointhistory['delta_point'] > 0]['delta_point'].value_counts(normalize=True) * 100)"
   ]
  },
  {
   "cell_type": "code",
   "execution_count": null,
   "id": "738dbae7",
   "metadata": {},
   "outputs": [],
   "source": [
    "# 포인트 사용\n",
    "use_point = accounts_pointhistory[accounts_pointhistory['delta_point'] < 0]\n",
    "display(use_point)\n",
    "\n",
    "print(use_point.isna().sum())"
   ]
  },
  {
   "cell_type": "code",
   "execution_count": null,
   "id": "56711193",
   "metadata": {},
   "outputs": [],
   "source": [
    "# 유저별 총 포인트\n",
    "\n",
    "accounts_pointhistory.sort_values(by='user_id').groupby('user_id').agg({'delta_point': 'sum'}).reset_index().sort_values(by='delta_point', ascending=False)"
   ]
  },
  {
   "cell_type": "code",
   "execution_count": null,
   "id": "9922de4c",
   "metadata": {},
   "outputs": [],
   "source": []
  },
  {
   "cell_type": "code",
   "execution_count": null,
   "id": "24c93c06",
   "metadata": {},
   "outputs": [],
   "source": [
    "# 이벤트 테이블과 merge\n",
    "\n",
    "event_but_nop = event_receipts.merge(accounts_pointhistory, how='left', on='user_id')\n",
    "display(event_but_nop)\n",
    "# 이벤트로 포인트를 획득했는데, 포인트 기록 테이블에는 기록이 없는 경우가 있음\n",
    "\n",
    "event_but_nop_notnull = event_but_nop[event_but_nop['delta_point'].isna() == False]\n",
    "display(event_but_nop_notnull)\n",
    "# 기록 없는 경우 제거\n",
    "\n",
    "event_but_nop_notnull[event_but_nop_notnull['created_at_x'] == event_but_nop_notnull['created_at_y']]\n",
    "# 전체 2802개 행 중 6개 행만 이벤트로 획득한 포인트 -> 포인트 기록 테이블에 기록이 되어 있음"
   ]
  },
  {
   "cell_type": "markdown",
   "id": "470b42dc",
   "metadata": {},
   "source": [
    "# 결측/중복/이상값 파악"
   ]
  },
  {
   "cell_type": "code",
   "execution_count": null,
   "id": "082ff036",
   "metadata": {},
   "outputs": [],
   "source": [
    "df_named_list = [\n",
    "    (\"accounts_attendance\", accounts_attendance),\n",
    "    (\"accounts_blockrecord\", accounts_blockrecord),\n",
    "    (\"accounts_failpaymenthistory\", accounts_failpaymenthistory),\n",
    "    (\"accounts_friendrequest\", accounts_friendrequest),\n",
    "    (\"accounts_group\", accounts_group),\n",
    "    (\"accounts_nearbyschool\", accounts_nearbyschool),\n",
    "    (\"accounts_paymenthistory\", accounts_paymenthistory),\n",
    "    (\"accounts_user_contacts\", accounts_user_contacts),\n",
    "    (\"accounts_pointhistory\", accounts_pointhistory),\n",
    "    (\"accounts_school\", accounts_school),\n",
    "    (\"accounts_timelinereport\", accounts_timelinereport),\n",
    "    (\"accounts_user\", accounts_user),\n",
    "    (\"accounts_userquestionrecord\", accounts_userquestionrecord),\n",
    "    (\"accounts_userwithdraw\", accounts_userwithdraw),\n",
    "    (\"event_receipts\", event_receipts),\n",
    "    (\"events\", events),\n",
    "    (\"polls_question\", polls_question),\n",
    "    (\"polls_questionpiece\", polls_questionpiece),\n",
    "    (\"polls_questionreport\", polls_questionreport),\n",
    "    (\"polls_questionset\", polls_questionset),\n",
    "    (\"polls_usercandidate\", polls_usercandidate),\n",
    "]\n",
    "\n",
    "\n",
    "\n",
    "for name, ddf in df_named_list:\n",
    "    missing = ddf.isna().sum()\n",
    "    missing = missing[missing > 0]\n",
    "    if not missing.empty:\n",
    "        print(f\"{name} 결측치:\")\n",
    "        print(missing)\n",
    "        print(\"-\" * 40)"
   ]
  },
  {
   "cell_type": "code",
   "execution_count": null,
   "id": "471bc19c",
   "metadata": {},
   "outputs": [],
   "source": [
    "# accounts_failpaymenthistory 관련 결측치\n",
    "# phone_type이 IOS인 경우 productId가 100% 결측치\n",
    "\n",
    "display(accounts_failpaymenthistory.sort_values(by='created_at'))\n",
    "temp = accounts_failpaymenthistory[accounts_failpaymenthistory['productId'].isna() == True].sort_values(by='created_at')\n",
    "display(temp)\n",
    "temp['phone_type'].value_counts()"
   ]
  },
  {
   "cell_type": "code",
   "execution_count": null,
   "id": "49435e15",
   "metadata": {},
   "outputs": [],
   "source": [
    "# 모든 데이터의 중복값 확인\n",
    "# 모든 컬럼이 중복인 경우는 없음\n",
    "\n",
    "for name, ddf in df_named_list:\n",
    "    duplicates = ddf.duplicated().sum()\n",
    "    if duplicates > 0:\n",
    "        print(f\"{name} 중복값 개수: {duplicates}\")\n",
    "    else:\n",
    "        print(f\"{name} 중복값 없음\")"
   ]
  },
  {
   "cell_type": "code",
   "execution_count": null,
   "id": "124680e2",
   "metadata": {},
   "outputs": [],
   "source": [
    "# accounts_blockrecord 테이블의 차단한 유저-차단 당한 유저 쌍 중복\n",
    "# 차단 해제하고 다시 차단한 건가? -> 근데 모르는 사람인데 차단 해제를 할까? -> 서비스 환경에 문제가 있어서 차단이 제대로 안된 건 아닌가? (인스타에서도 관심없음 눌러도 계속 나옴)\n",
    "display(accounts_blockrecord[accounts_blockrecord.duplicated(subset = ['user_id', 'block_user_id'])])\n",
    "\n",
    "# accounts_friendrequest 테이블의 친추 요청 유저-친추 받는 유저 쌍 중복\n",
    "accounts_friendrequest_dup = accounts_friendrequest[accounts_friendrequest.duplicated(subset= ['send_user_id', 'receive_user_id'])].sort_values(by = ['send_user_id', 'receive_user_id'])\n",
    "display(accounts_friendrequest_dup)\n",
    "\n",
    "# accounts_timelinereport 테이블의 유저-신고 당한 유저 쌍 중복\n",
    "accounts_timelinereport_dup = accounts_timelinereport[accounts_timelinereport.duplicated(subset= ['user_id', 'reported_user_id'])].sort_values(by = ['user_id', 'reported_user_id'])\n",
    "display(accounts_timelinereport_dup)"
   ]
  },
  {
   "cell_type": "code",
   "execution_count": null,
   "id": "a3fe12c8",
   "metadata": {},
   "outputs": [],
   "source": [
    "accounts_timelinereport_dup.groupby(['user_id'])['reported_user_id'].count().reset_index().sort_values(by='reported_user_id', ascending=False)"
   ]
  },
  {
   "cell_type": "code",
   "execution_count": null,
   "id": "ef806e2a",
   "metadata": {},
   "outputs": [],
   "source": [
    "accounts_timelinereport_dup[accounts_timelinereport_dup['user_id'] == 1343904]"
   ]
  },
  {
   "cell_type": "code",
   "execution_count": null,
   "id": "ca6adae0",
   "metadata": {},
   "outputs": [],
   "source": [
    "# 자기 자신을 투표한 기록\n",
    "\n",
    "self_vote = accounts_userquestionrecord[accounts_userquestionrecord['user_id'] == accounts_userquestionrecord['chosen_user_id']]\n",
    "\n",
    "# is_self_vote 컬럼을 추가하여, user_id와 chosen_user_id가 같은 경우 1, 아닌 경우 0으로 표시\n",
    "# accounts_userquestionrecord['is_self_vote'] = (accounts_userquestionrecord['user_id'] == accounts_userquestionrecord['chosen_user_id']).astype(int)\n",
    "# accounts_userquestionrecord"
   ]
  },
  {
   "cell_type": "code",
   "execution_count": null,
   "id": "dde27ea0",
   "metadata": {},
   "outputs": [],
   "source": [
    "accounts_userquestionrecord['is_self_vote'].value_counts()"
   ]
  },
  {
   "cell_type": "markdown",
   "id": "4e76975a",
   "metadata": {},
   "source": [
    "# 개인별 관심 분석 주제 탐색"
   ]
  },
  {
   "cell_type": "markdown",
   "id": "adc2526c",
   "metadata": {},
   "source": [
    "### 전체 가입 유저 중 투표를 몇 명이나 하는지 퍼널 분석"
   ]
  },
  {
   "cell_type": "code",
   "execution_count": 4,
   "id": "42d8c528",
   "metadata": {},
   "outputs": [
    {
     "data": {
      "text/html": [
       "<div>\n",
       "<style scoped>\n",
       "    .dataframe tbody tr th:only-of-type {\n",
       "        vertical-align: middle;\n",
       "    }\n",
       "\n",
       "    .dataframe tbody tr th {\n",
       "        vertical-align: top;\n",
       "    }\n",
       "\n",
       "    .dataframe thead th {\n",
       "        text-align: right;\n",
       "    }\n",
       "</style>\n",
       "<table border=\"1\" class=\"dataframe\">\n",
       "  <thead>\n",
       "    <tr style=\"text-align: right;\">\n",
       "      <th></th>\n",
       "      <th>id</th>\n",
       "      <th>is_superuser</th>\n",
       "      <th>is_staff</th>\n",
       "      <th>gender</th>\n",
       "      <th>point</th>\n",
       "      <th>friend_id_list</th>\n",
       "      <th>is_push_on</th>\n",
       "      <th>created_at</th>\n",
       "      <th>block_user_id_list</th>\n",
       "      <th>hide_user_id_list</th>\n",
       "      <th>...</th>\n",
       "      <th>report_count</th>\n",
       "      <th>alarm_count</th>\n",
       "      <th>pending_chat</th>\n",
       "      <th>pending_votes</th>\n",
       "      <th>group_id</th>\n",
       "      <th>friend_count</th>\n",
       "      <th>is_point_specialist</th>\n",
       "      <th>is_friend_specialist</th>\n",
       "      <th>is_specialist</th>\n",
       "      <th>specialist_type</th>\n",
       "    </tr>\n",
       "  </thead>\n",
       "  <tbody>\n",
       "    <tr>\n",
       "      <th>0</th>\n",
       "      <td>831956</td>\n",
       "      <td>1</td>\n",
       "      <td>1</td>\n",
       "      <td>None</td>\n",
       "      <td>600</td>\n",
       "      <td>[1292473, 913158, 1488461, 1064695, 1043565, 1...</td>\n",
       "      <td>0</td>\n",
       "      <td>2023-03-29 03:44:14.047130</td>\n",
       "      <td>[]</td>\n",
       "      <td>[]</td>\n",
       "      <td>...</td>\n",
       "      <td>0</td>\n",
       "      <td>0</td>\n",
       "      <td>0</td>\n",
       "      <td>0</td>\n",
       "      <td>NaN</td>\n",
       "      <td>6</td>\n",
       "      <td>False</td>\n",
       "      <td>False</td>\n",
       "      <td>False</td>\n",
       "      <td>normal</td>\n",
       "    </tr>\n",
       "    <tr>\n",
       "      <th>1</th>\n",
       "      <td>831962</td>\n",
       "      <td>0</td>\n",
       "      <td>0</td>\n",
       "      <td>F</td>\n",
       "      <td>2248</td>\n",
       "      <td>[833025, 832642, 982531, 879496, 838541, 83752...</td>\n",
       "      <td>1</td>\n",
       "      <td>2023-03-29 05:18:56.162368</td>\n",
       "      <td>[]</td>\n",
       "      <td>[]</td>\n",
       "      <td>...</td>\n",
       "      <td>253</td>\n",
       "      <td>40878</td>\n",
       "      <td>5499</td>\n",
       "      <td>110</td>\n",
       "      <td>12.0</td>\n",
       "      <td>43</td>\n",
       "      <td>False</td>\n",
       "      <td>False</td>\n",
       "      <td>False</td>\n",
       "      <td>normal</td>\n",
       "    </tr>\n",
       "    <tr>\n",
       "      <th>2</th>\n",
       "      <td>832151</td>\n",
       "      <td>0</td>\n",
       "      <td>0</td>\n",
       "      <td>M</td>\n",
       "      <td>1519</td>\n",
       "      <td>[838785, 982531, 882567, 879496, 838541, 83649...</td>\n",
       "      <td>0</td>\n",
       "      <td>2023-03-29 12:56:34.989468</td>\n",
       "      <td>[]</td>\n",
       "      <td>[]</td>\n",
       "      <td>...</td>\n",
       "      <td>0</td>\n",
       "      <td>37</td>\n",
       "      <td>0</td>\n",
       "      <td>47</td>\n",
       "      <td>1.0</td>\n",
       "      <td>51</td>\n",
       "      <td>False</td>\n",
       "      <td>False</td>\n",
       "      <td>False</td>\n",
       "      <td>normal</td>\n",
       "    </tr>\n",
       "    <tr>\n",
       "      <th>3</th>\n",
       "      <td>832340</td>\n",
       "      <td>0</td>\n",
       "      <td>0</td>\n",
       "      <td>F</td>\n",
       "      <td>57</td>\n",
       "      <td>[841345, 982531, 838785, 963714, 882567, 83252...</td>\n",
       "      <td>1</td>\n",
       "      <td>2023-03-29 12:56:35.020790</td>\n",
       "      <td>[]</td>\n",
       "      <td>[]</td>\n",
       "      <td>...</td>\n",
       "      <td>0</td>\n",
       "      <td>19</td>\n",
       "      <td>0</td>\n",
       "      <td>21</td>\n",
       "      <td>1.0</td>\n",
       "      <td>57</td>\n",
       "      <td>False</td>\n",
       "      <td>False</td>\n",
       "      <td>False</td>\n",
       "      <td>normal</td>\n",
       "    </tr>\n",
       "    <tr>\n",
       "      <th>4</th>\n",
       "      <td>832520</td>\n",
       "      <td>0</td>\n",
       "      <td>0</td>\n",
       "      <td>M</td>\n",
       "      <td>1039</td>\n",
       "      <td>[874050, 849763, 874212, 844297, 838541, 84004...</td>\n",
       "      <td>0</td>\n",
       "      <td>2023-03-29 12:56:35.049311</td>\n",
       "      <td>[]</td>\n",
       "      <td>[]</td>\n",
       "      <td>...</td>\n",
       "      <td>0</td>\n",
       "      <td>29</td>\n",
       "      <td>0</td>\n",
       "      <td>15</td>\n",
       "      <td>12.0</td>\n",
       "      <td>18</td>\n",
       "      <td>False</td>\n",
       "      <td>False</td>\n",
       "      <td>False</td>\n",
       "      <td>normal</td>\n",
       "    </tr>\n",
       "    <tr>\n",
       "      <th>...</th>\n",
       "      <td>...</td>\n",
       "      <td>...</td>\n",
       "      <td>...</td>\n",
       "      <td>...</td>\n",
       "      <td>...</td>\n",
       "      <td>...</td>\n",
       "      <td>...</td>\n",
       "      <td>...</td>\n",
       "      <td>...</td>\n",
       "      <td>...</td>\n",
       "      <td>...</td>\n",
       "      <td>...</td>\n",
       "      <td>...</td>\n",
       "      <td>...</td>\n",
       "      <td>...</td>\n",
       "      <td>...</td>\n",
       "      <td>...</td>\n",
       "      <td>...</td>\n",
       "      <td>...</td>\n",
       "      <td>...</td>\n",
       "      <td>...</td>\n",
       "    </tr>\n",
       "    <tr>\n",
       "      <th>677080</th>\n",
       "      <td>1583729</td>\n",
       "      <td>0</td>\n",
       "      <td>0</td>\n",
       "      <td>M</td>\n",
       "      <td>300</td>\n",
       "      <td>[]</td>\n",
       "      <td>1</td>\n",
       "      <td>2024-05-08 21:54:33.621408</td>\n",
       "      <td>[]</td>\n",
       "      <td>[]</td>\n",
       "      <td>...</td>\n",
       "      <td>0</td>\n",
       "      <td>0</td>\n",
       "      <td>0</td>\n",
       "      <td>0</td>\n",
       "      <td>32442.0</td>\n",
       "      <td>0</td>\n",
       "      <td>False</td>\n",
       "      <td>False</td>\n",
       "      <td>False</td>\n",
       "      <td>normal</td>\n",
       "    </tr>\n",
       "    <tr>\n",
       "      <th>677081</th>\n",
       "      <td>1583730</td>\n",
       "      <td>0</td>\n",
       "      <td>0</td>\n",
       "      <td>M</td>\n",
       "      <td>420</td>\n",
       "      <td>[1109507, 1110921, 1111072, 1110054, 1108393, ...</td>\n",
       "      <td>0</td>\n",
       "      <td>2024-05-09 07:08:11.001817</td>\n",
       "      <td>[]</td>\n",
       "      <td>[]</td>\n",
       "      <td>...</td>\n",
       "      <td>0</td>\n",
       "      <td>1</td>\n",
       "      <td>0</td>\n",
       "      <td>0</td>\n",
       "      <td>43949.0</td>\n",
       "      <td>21</td>\n",
       "      <td>False</td>\n",
       "      <td>False</td>\n",
       "      <td>False</td>\n",
       "      <td>normal</td>\n",
       "    </tr>\n",
       "    <tr>\n",
       "      <th>677082</th>\n",
       "      <td>1583731</td>\n",
       "      <td>0</td>\n",
       "      <td>0</td>\n",
       "      <td>M</td>\n",
       "      <td>300</td>\n",
       "      <td>[1583732, 1583673]</td>\n",
       "      <td>1</td>\n",
       "      <td>2024-05-09 07:22:19.186439</td>\n",
       "      <td>[]</td>\n",
       "      <td>[]</td>\n",
       "      <td>...</td>\n",
       "      <td>0</td>\n",
       "      <td>1</td>\n",
       "      <td>0</td>\n",
       "      <td>0</td>\n",
       "      <td>18640.0</td>\n",
       "      <td>2</td>\n",
       "      <td>False</td>\n",
       "      <td>False</td>\n",
       "      <td>False</td>\n",
       "      <td>normal</td>\n",
       "    </tr>\n",
       "    <tr>\n",
       "      <th>677083</th>\n",
       "      <td>1583732</td>\n",
       "      <td>0</td>\n",
       "      <td>0</td>\n",
       "      <td>F</td>\n",
       "      <td>300</td>\n",
       "      <td>[1583673, 1583730, 1583731]</td>\n",
       "      <td>1</td>\n",
       "      <td>2024-05-09 07:22:38.387553</td>\n",
       "      <td>[]</td>\n",
       "      <td>[]</td>\n",
       "      <td>...</td>\n",
       "      <td>0</td>\n",
       "      <td>0</td>\n",
       "      <td>0</td>\n",
       "      <td>0</td>\n",
       "      <td>18640.0</td>\n",
       "      <td>3</td>\n",
       "      <td>False</td>\n",
       "      <td>False</td>\n",
       "      <td>False</td>\n",
       "      <td>normal</td>\n",
       "    </tr>\n",
       "    <tr>\n",
       "      <th>677084</th>\n",
       "      <td>1583733</td>\n",
       "      <td>0</td>\n",
       "      <td>0</td>\n",
       "      <td>F</td>\n",
       "      <td>300</td>\n",
       "      <td>[]</td>\n",
       "      <td>0</td>\n",
       "      <td>2024-05-09 08:31:17.710824</td>\n",
       "      <td>[]</td>\n",
       "      <td>[]</td>\n",
       "      <td>...</td>\n",
       "      <td>0</td>\n",
       "      <td>0</td>\n",
       "      <td>0</td>\n",
       "      <td>0</td>\n",
       "      <td>84546.0</td>\n",
       "      <td>0</td>\n",
       "      <td>False</td>\n",
       "      <td>False</td>\n",
       "      <td>False</td>\n",
       "      <td>normal</td>\n",
       "    </tr>\n",
       "  </tbody>\n",
       "</table>\n",
       "<p>677085 rows × 21 columns</p>\n",
       "</div>"
      ],
      "text/plain": [
       "             id  is_superuser  is_staff gender  point  \\\n",
       "0        831956             1         1   None    600   \n",
       "1        831962             0         0      F   2248   \n",
       "2        832151             0         0      M   1519   \n",
       "3        832340             0         0      F     57   \n",
       "4        832520             0         0      M   1039   \n",
       "...         ...           ...       ...    ...    ...   \n",
       "677080  1583729             0         0      M    300   \n",
       "677081  1583730             0         0      M    420   \n",
       "677082  1583731             0         0      M    300   \n",
       "677083  1583732             0         0      F    300   \n",
       "677084  1583733             0         0      F    300   \n",
       "\n",
       "                                           friend_id_list  is_push_on  \\\n",
       "0       [1292473, 913158, 1488461, 1064695, 1043565, 1...           0   \n",
       "1       [833025, 832642, 982531, 879496, 838541, 83752...           1   \n",
       "2       [838785, 982531, 882567, 879496, 838541, 83649...           0   \n",
       "3       [841345, 982531, 838785, 963714, 882567, 83252...           1   \n",
       "4       [874050, 849763, 874212, 844297, 838541, 84004...           0   \n",
       "...                                                   ...         ...   \n",
       "677080                                                 []           1   \n",
       "677081  [1109507, 1110921, 1111072, 1110054, 1108393, ...           0   \n",
       "677082                                 [1583732, 1583673]           1   \n",
       "677083                        [1583673, 1583730, 1583731]           1   \n",
       "677084                                                 []           0   \n",
       "\n",
       "                       created_at block_user_id_list hide_user_id_list  ...  \\\n",
       "0      2023-03-29 03:44:14.047130                 []                []  ...   \n",
       "1      2023-03-29 05:18:56.162368                 []                []  ...   \n",
       "2      2023-03-29 12:56:34.989468                 []                []  ...   \n",
       "3      2023-03-29 12:56:35.020790                 []                []  ...   \n",
       "4      2023-03-29 12:56:35.049311                 []                []  ...   \n",
       "...                           ...                ...               ...  ...   \n",
       "677080 2024-05-08 21:54:33.621408                 []                []  ...   \n",
       "677081 2024-05-09 07:08:11.001817                 []                []  ...   \n",
       "677082 2024-05-09 07:22:19.186439                 []                []  ...   \n",
       "677083 2024-05-09 07:22:38.387553                 []                []  ...   \n",
       "677084 2024-05-09 08:31:17.710824                 []                []  ...   \n",
       "\n",
       "       report_count  alarm_count  pending_chat  pending_votes  group_id  \\\n",
       "0                 0            0             0              0       NaN   \n",
       "1               253        40878          5499            110      12.0   \n",
       "2                 0           37             0             47       1.0   \n",
       "3                 0           19             0             21       1.0   \n",
       "4                 0           29             0             15      12.0   \n",
       "...             ...          ...           ...            ...       ...   \n",
       "677080            0            0             0              0   32442.0   \n",
       "677081            0            1             0              0   43949.0   \n",
       "677082            0            1             0              0   18640.0   \n",
       "677083            0            0             0              0   18640.0   \n",
       "677084            0            0             0              0   84546.0   \n",
       "\n",
       "        friend_count  is_point_specialist  is_friend_specialist  \\\n",
       "0                  6                False                 False   \n",
       "1                 43                False                 False   \n",
       "2                 51                False                 False   \n",
       "3                 57                False                 False   \n",
       "4                 18                False                 False   \n",
       "...              ...                  ...                   ...   \n",
       "677080             0                False                 False   \n",
       "677081            21                False                 False   \n",
       "677082             2                False                 False   \n",
       "677083             3                False                 False   \n",
       "677084             0                False                 False   \n",
       "\n",
       "        is_specialist  specialist_type  \n",
       "0               False           normal  \n",
       "1               False           normal  \n",
       "2               False           normal  \n",
       "3               False           normal  \n",
       "4               False           normal  \n",
       "...               ...              ...  \n",
       "677080          False           normal  \n",
       "677081          False           normal  \n",
       "677082          False           normal  \n",
       "677083          False           normal  \n",
       "677084          False           normal  \n",
       "\n",
       "[677085 rows x 21 columns]"
      ]
     },
     "metadata": {},
     "output_type": "display_data"
    },
    {
     "name": "stdout",
     "output_type": "stream",
     "text": [
      "전체 유저 수: 677085\n",
      "Staff인 유저 수: 3\n",
      "Superuser인 유저 수: 2\n"
     ]
    }
   ],
   "source": [
    "# 유저 테이블\n",
    "display(accounts_user)\n",
    "\n",
    "# 전체 유저 수 확인\n",
    "accounts_user['id'].nunique()\n",
    "print(f\"전체 유저 수: {accounts_user['id'].nunique()}\")\n",
    "\n",
    "# staff인 사람 몇 명인지 확인\n",
    "staff_count = accounts_user[accounts_user['is_staff'] == True].shape[0]\n",
    "print(f\"Staff인 유저 수: {staff_count}\")\n",
    "# superuser인 사람 몇 명인지 확인\n",
    "superuser_count = accounts_user[accounts_user['is_superuser'] == True].shape[0]\n",
    "print(f\"Superuser인 유저 수: {superuser_count}\")"
   ]
  },
  {
   "cell_type": "code",
   "execution_count": 5,
   "id": "d31456ce",
   "metadata": {},
   "outputs": [
    {
     "data": {
      "text/html": [
       "<div>\n",
       "<style scoped>\n",
       "    .dataframe tbody tr th:only-of-type {\n",
       "        vertical-align: middle;\n",
       "    }\n",
       "\n",
       "    .dataframe tbody tr th {\n",
       "        vertical-align: top;\n",
       "    }\n",
       "\n",
       "    .dataframe thead th {\n",
       "        text-align: right;\n",
       "    }\n",
       "</style>\n",
       "<table border=\"1\" class=\"dataframe\">\n",
       "  <thead>\n",
       "    <tr style=\"text-align: right;\">\n",
       "      <th></th>\n",
       "      <th>id</th>\n",
       "      <th>status</th>\n",
       "      <th>created_at</th>\n",
       "      <th>chosen_user_id</th>\n",
       "      <th>question_id</th>\n",
       "      <th>user_id</th>\n",
       "      <th>question_piece_id</th>\n",
       "      <th>has_read</th>\n",
       "      <th>answer_status</th>\n",
       "      <th>answer_updated_at</th>\n",
       "      <th>report_count</th>\n",
       "      <th>opened_times</th>\n",
       "      <th>is_self_love</th>\n",
       "    </tr>\n",
       "  </thead>\n",
       "  <tbody>\n",
       "    <tr>\n",
       "      <th>0</th>\n",
       "      <td>771777</td>\n",
       "      <td>C</td>\n",
       "      <td>2023-04-28 12:27:49</td>\n",
       "      <td>849469</td>\n",
       "      <td>252</td>\n",
       "      <td>849436</td>\n",
       "      <td>998458</td>\n",
       "      <td>0</td>\n",
       "      <td>N</td>\n",
       "      <td>2023-04-28 12:27:49</td>\n",
       "      <td>0</td>\n",
       "      <td>0</td>\n",
       "      <td>False</td>\n",
       "    </tr>\n",
       "    <tr>\n",
       "      <th>1</th>\n",
       "      <td>771800</td>\n",
       "      <td>C</td>\n",
       "      <td>2023-04-28 12:28:02</td>\n",
       "      <td>849446</td>\n",
       "      <td>244</td>\n",
       "      <td>849436</td>\n",
       "      <td>998459</td>\n",
       "      <td>0</td>\n",
       "      <td>N</td>\n",
       "      <td>2023-04-28 12:28:02</td>\n",
       "      <td>0</td>\n",
       "      <td>0</td>\n",
       "      <td>False</td>\n",
       "    </tr>\n",
       "    <tr>\n",
       "      <th>2</th>\n",
       "      <td>771812</td>\n",
       "      <td>C</td>\n",
       "      <td>2023-04-28 12:28:09</td>\n",
       "      <td>849454</td>\n",
       "      <td>183</td>\n",
       "      <td>849436</td>\n",
       "      <td>998460</td>\n",
       "      <td>1</td>\n",
       "      <td>N</td>\n",
       "      <td>2023-04-28 12:28:09</td>\n",
       "      <td>0</td>\n",
       "      <td>0</td>\n",
       "      <td>False</td>\n",
       "    </tr>\n",
       "    <tr>\n",
       "      <th>3</th>\n",
       "      <td>771828</td>\n",
       "      <td>C</td>\n",
       "      <td>2023-04-28 12:28:16</td>\n",
       "      <td>847375</td>\n",
       "      <td>101</td>\n",
       "      <td>849436</td>\n",
       "      <td>998461</td>\n",
       "      <td>0</td>\n",
       "      <td>N</td>\n",
       "      <td>2023-04-28 12:28:16</td>\n",
       "      <td>0</td>\n",
       "      <td>0</td>\n",
       "      <td>False</td>\n",
       "    </tr>\n",
       "    <tr>\n",
       "      <th>4</th>\n",
       "      <td>771851</td>\n",
       "      <td>C</td>\n",
       "      <td>2023-04-28 12:28:26</td>\n",
       "      <td>849477</td>\n",
       "      <td>209</td>\n",
       "      <td>849436</td>\n",
       "      <td>998462</td>\n",
       "      <td>1</td>\n",
       "      <td>N</td>\n",
       "      <td>2023-04-28 12:28:26</td>\n",
       "      <td>0</td>\n",
       "      <td>0</td>\n",
       "      <td>False</td>\n",
       "    </tr>\n",
       "    <tr>\n",
       "      <th>...</th>\n",
       "      <td>...</td>\n",
       "      <td>...</td>\n",
       "      <td>...</td>\n",
       "      <td>...</td>\n",
       "      <td>...</td>\n",
       "      <td>...</td>\n",
       "      <td>...</td>\n",
       "      <td>...</td>\n",
       "      <td>...</td>\n",
       "      <td>...</td>\n",
       "      <td>...</td>\n",
       "      <td>...</td>\n",
       "      <td>...</td>\n",
       "    </tr>\n",
       "    <tr>\n",
       "      <th>1217553</th>\n",
       "      <td>161666166</td>\n",
       "      <td>C</td>\n",
       "      <td>2024-05-07 11:29:07</td>\n",
       "      <td>945560</td>\n",
       "      <td>2614</td>\n",
       "      <td>1001607</td>\n",
       "      <td>190864020</td>\n",
       "      <td>1</td>\n",
       "      <td>N</td>\n",
       "      <td>2024-05-07 11:29:07</td>\n",
       "      <td>0</td>\n",
       "      <td>0</td>\n",
       "      <td>False</td>\n",
       "    </tr>\n",
       "    <tr>\n",
       "      <th>1217554</th>\n",
       "      <td>161666461</td>\n",
       "      <td>C</td>\n",
       "      <td>2024-05-08 01:34:56</td>\n",
       "      <td>850774</td>\n",
       "      <td>1679</td>\n",
       "      <td>855525</td>\n",
       "      <td>200139931</td>\n",
       "      <td>0</td>\n",
       "      <td>N</td>\n",
       "      <td>2024-05-08 01:34:56</td>\n",
       "      <td>0</td>\n",
       "      <td>0</td>\n",
       "      <td>False</td>\n",
       "    </tr>\n",
       "    <tr>\n",
       "      <th>1217555</th>\n",
       "      <td>161666462</td>\n",
       "      <td>C</td>\n",
       "      <td>2024-05-08 01:35:02</td>\n",
       "      <td>855509</td>\n",
       "      <td>2605</td>\n",
       "      <td>855525</td>\n",
       "      <td>200139932</td>\n",
       "      <td>0</td>\n",
       "      <td>N</td>\n",
       "      <td>2024-05-08 01:35:02</td>\n",
       "      <td>0</td>\n",
       "      <td>0</td>\n",
       "      <td>False</td>\n",
       "    </tr>\n",
       "    <tr>\n",
       "      <th>1217556</th>\n",
       "      <td>161666463</td>\n",
       "      <td>C</td>\n",
       "      <td>2024-05-08 01:36:00</td>\n",
       "      <td>855526</td>\n",
       "      <td>3801</td>\n",
       "      <td>855525</td>\n",
       "      <td>200139933</td>\n",
       "      <td>0</td>\n",
       "      <td>N</td>\n",
       "      <td>2024-05-08 01:36:00</td>\n",
       "      <td>0</td>\n",
       "      <td>0</td>\n",
       "      <td>False</td>\n",
       "    </tr>\n",
       "    <tr>\n",
       "      <th>1217557</th>\n",
       "      <td>161666464</td>\n",
       "      <td>C</td>\n",
       "      <td>2024-05-08 01:36:18</td>\n",
       "      <td>874566</td>\n",
       "      <td>3117</td>\n",
       "      <td>855525</td>\n",
       "      <td>200139934</td>\n",
       "      <td>0</td>\n",
       "      <td>N</td>\n",
       "      <td>2024-05-08 01:36:18</td>\n",
       "      <td>0</td>\n",
       "      <td>0</td>\n",
       "      <td>False</td>\n",
       "    </tr>\n",
       "  </tbody>\n",
       "</table>\n",
       "<p>1217558 rows × 13 columns</p>\n",
       "</div>"
      ],
      "text/plain": [
       "                id status          created_at  chosen_user_id  question_id  \\\n",
       "0           771777      C 2023-04-28 12:27:49          849469          252   \n",
       "1           771800      C 2023-04-28 12:28:02          849446          244   \n",
       "2           771812      C 2023-04-28 12:28:09          849454          183   \n",
       "3           771828      C 2023-04-28 12:28:16          847375          101   \n",
       "4           771851      C 2023-04-28 12:28:26          849477          209   \n",
       "...            ...    ...                 ...             ...          ...   \n",
       "1217553  161666166      C 2024-05-07 11:29:07          945560         2614   \n",
       "1217554  161666461      C 2024-05-08 01:34:56          850774         1679   \n",
       "1217555  161666462      C 2024-05-08 01:35:02          855509         2605   \n",
       "1217556  161666463      C 2024-05-08 01:36:00          855526         3801   \n",
       "1217557  161666464      C 2024-05-08 01:36:18          874566         3117   \n",
       "\n",
       "         user_id  question_piece_id  has_read answer_status  \\\n",
       "0         849436             998458         0             N   \n",
       "1         849436             998459         0             N   \n",
       "2         849436             998460         1             N   \n",
       "3         849436             998461         0             N   \n",
       "4         849436             998462         1             N   \n",
       "...          ...                ...       ...           ...   \n",
       "1217553  1001607          190864020         1             N   \n",
       "1217554   855525          200139931         0             N   \n",
       "1217555   855525          200139932         0             N   \n",
       "1217556   855525          200139933         0             N   \n",
       "1217557   855525          200139934         0             N   \n",
       "\n",
       "          answer_updated_at  report_count  opened_times  is_self_love  \n",
       "0       2023-04-28 12:27:49             0             0         False  \n",
       "1       2023-04-28 12:28:02             0             0         False  \n",
       "2       2023-04-28 12:28:09             0             0         False  \n",
       "3       2023-04-28 12:28:16             0             0         False  \n",
       "4       2023-04-28 12:28:26             0             0         False  \n",
       "...                     ...           ...           ...           ...  \n",
       "1217553 2024-05-07 11:29:07             0             0         False  \n",
       "1217554 2024-05-08 01:34:56             0             0         False  \n",
       "1217555 2024-05-08 01:35:02             0             0         False  \n",
       "1217556 2024-05-08 01:36:00             0             0         False  \n",
       "1217557 2024-05-08 01:36:18             0             0         False  \n",
       "\n",
       "[1217558 rows x 13 columns]"
      ]
     },
     "metadata": {},
     "output_type": "display_data"
    },
    {
     "name": "stdout",
     "output_type": "stream",
     "text": [
      "투표를 한 유저 수: 4849\n",
      "투표를 한 유저의 비율: 0.72%\n"
     ]
    }
   ],
   "source": [
    "# 투표 기록 테이블\n",
    "display(accounts_userquestionrecord)\n",
    "\n",
    "# 유저 테이블과 투표 기록 테이블 merge하여 전체 유저 중 몇 명이 투표를 했는지 확인\n",
    "merged_df = accounts_user.merge(accounts_userquestionrecord, how='inner', left_on='id', right_on='user_id')\n",
    "# 투표를 한 유저 수\n",
    "voted_users_count = merged_df['user_id'].nunique()\n",
    "print(f\"투표를 한 유저 수: {voted_users_count}\")\n",
    "# 투표를 한 유저의 비율\n",
    "total_users_count = accounts_user['id'].nunique()\n",
    "voted_users_ratio = voted_users_count / total_users_count * 100\n",
    "print(f\"투표를 한 유저의 비율: {voted_users_ratio:.2f}%\")"
   ]
  },
  {
   "cell_type": "code",
   "execution_count": 6,
   "id": "c2c1de9a",
   "metadata": {},
   "outputs": [
    {
     "data": {
      "image/png": "[encoded data removed]",
      "text/plain": [
       "<Figure size 800x500 with 1 Axes>"
      ]
     },
     "metadata": {},
     "output_type": "display_data"
    }
   ],
   "source": [
    "# 전체 유저 -> 투표 한 유저 퍼널 시각화 하기\n",
    "import matplotlib.pyplot as plt\n",
    "# 퍼널 시각화\n",
    "labels = ['All users count', 'Voted users count']\n",
    "values = [total_users_count, voted_users_count]\n",
    "plt.figure(figsize=(8, 5))\n",
    "plt.bar(labels, values, color=['skyblue', 'red'])\n",
    "# 바 그래프 위에 숫자 표시\n",
    "for i, value in enumerate(values):\n",
    "    plt.text(i, value + 50, str(value), ha='center', va='bottom', fontsize=12)\n",
    "plt.title('All users vs Voted users')\n",
    "plt.ylabel('user count')\n",
    "plt.show()"
   ]
  },
  {
   "cell_type": "code",
   "execution_count": 7,
   "id": "87b852ee",
   "metadata": {},
   "outputs": [
    {
     "data": {
      "application/vnd.plotly.v1+json": {
       "config": {
        "plotlyServerURL": "https://plot.ly"
       },
       "data": [
        {
         "textinfo": "text",
         "texttemplate": "%{label}: %{x:,}명<br>이전 대비 %{percentPrevious:.1%}",
         "type": "funnel",
         "x": [
          677085,
          4849
         ],
         "y": [
          "All users count",
          "Voted users count"
         ]
        }
       ],
       "layout": {
        "template": {
         "data": {
          "bar": [
           {
            "error_x": {
             "color": "#2a3f5f"
            },
            "error_y": {
             "color": "#2a3f5f"
            },
            "marker": {
             "line": {
              "color": "#E5ECF6",
              "width": 0.5
             },
             "pattern": {
              "fillmode": "overlay",
              "size": 10,
              "solidity": 0.2
             }
            },
            "type": "bar"
           }
          ],
          "barpolar": [
           {
            "marker": {
             "line": {
              "color": "#E5ECF6",
              "width": 0.5
             },
             "pattern": {
              "fillmode": "overlay",
              "size": 10,
              "solidity": 0.2
             }
            },
            "type": "barpolar"
           }
          ],
          "carpet": [
           {
            "aaxis": {
             "endlinecolor": "#2a3f5f",
             "gridcolor": "white",
             "linecolor": "white",
             "minorgridcolor": "white",
             "startlinecolor": "#2a3f5f"
            },
            "baxis": {
             "endlinecolor": "#2a3f5f",
             "gridcolor": "white",
             "linecolor": "white",
             "minorgridcolor": "white",
             "startlinecolor": "#2a3f5f"
            },
            "type": "carpet"
           }
          ],
          "choropleth": [
           {
            "colorbar": {
             "outlinewidth": 0,
             "ticks": ""
            },
            "type": "choropleth"
           }
          ],
          "contour": [
           {
            "colorbar": {
             "outlinewidth": 0,
             "ticks": ""
            },
            "colorscale": [
             [
              0,
              "#0d0887"
             ],
             [
              0.1111111111111111,
              "#46039f"
             ],
             [
              0.2222222222222222,
              "#7201a8"
             ],
             [
              0.3333333333333333,
              "#9c179e"
             ],
             [
              0.4444444444444444,
              "#bd3786"
             ],
             [
              0.5555555555555556,
              "#d8576b"
             ],
             [
              0.6666666666666666,
              "#ed7953"
             ],
             [
              0.7777777777777778,
              "#fb9f3a"
             ],
             [
              0.8888888888888888,
              "#fdca26"
             ],
             [
              1,
              "#f0f921"
             ]
            ],
            "type": "contour"
           }
          ],
          "contourcarpet": [
           {
            "colorbar": {
             "outlinewidth": 0,
             "ticks": ""
            },
            "type": "contourcarpet"
           }
          ],
          "heatmap": [
           {
            "colorbar": {
             "outlinewidth": 0,
             "ticks": ""
            },
            "colorscale": [
             [
              0,
              "#0d0887"
             ],
             [
              0.1111111111111111,
              "#46039f"
             ],
             [
              0.2222222222222222,
              "#7201a8"
             ],
             [
              0.3333333333333333,
              "#9c179e"
             ],
             [
              0.4444444444444444,
              "#bd3786"
             ],
             [
              0.5555555555555556,
              "#d8576b"
             ],
             [
              0.6666666666666666,
              "#ed7953"
             ],
             [
              0.7777777777777778,
              "#fb9f3a"
             ],
             [
              0.8888888888888888,
              "#fdca26"
             ],
             [
              1,
              "#f0f921"
             ]
            ],
            "type": "heatmap"
           }
          ],
          "heatmapgl": [
           {
            "colorbar": {
             "outlinewidth": 0,
             "ticks": ""
            },
            "colorscale": [
             [
              0,
              "#0d0887"
             ],
             [
              0.1111111111111111,
              "#46039f"
             ],
             [
              0.2222222222222222,
              "#7201a8"
             ],
             [
              0.3333333333333333,
              "#9c179e"
             ],
             [
              0.4444444444444444,
              "#bd3786"
             ],
             [
              0.5555555555555556,
              "#d8576b"
             ],
             [
              0.6666666666666666,
              "#ed7953"
             ],
             [
              0.7777777777777778,
              "#fb9f3a"
             ],
             [
              0.8888888888888888,
              "#fdca26"
             ],
             [
              1,
              "#f0f921"
             ]
            ],
            "type": "heatmapgl"
           }
          ],
          "histogram": [
           {
            "marker": {
             "pattern": {
              "fillmode": "overlay",
              "size": 10,
              "solidity": 0.2
             }
            },
            "type": "histogram"
           }
          ],
          "histogram2d": [
           {
            "colorbar": {
             "outlinewidth": 0,
             "ticks": ""
            },
            "colorscale": [
             [
              0,
              "#0d0887"
             ],
             [
              0.1111111111111111,
              "#46039f"
             ],
             [
              0.2222222222222222,
              "#7201a8"
             ],
             [
              0.3333333333333333,
              "#9c179e"
             ],
             [
              0.4444444444444444,
              "#bd3786"
             ],
             [
              0.5555555555555556,
              "#d8576b"
             ],
             [
              0.6666666666666666,
              "#ed7953"
             ],
             [
              0.7777777777777778,
              "#fb9f3a"
             ],
             [
              0.8888888888888888,
              "#fdca26"
             ],
             [
              1,
              "#f0f921"
             ]
            ],
            "type": "histogram2d"
           }
          ],
          "histogram2dcontour": [
           {
            "colorbar": {
             "outlinewidth": 0,
             "ticks": ""
            },
            "colorscale": [
             [
              0,
              "#0d0887"
             ],
             [
              0.1111111111111111,
              "#46039f"
             ],
             [
              0.2222222222222222,
              "#7201a8"
             ],
             [
              0.3333333333333333,
              "#9c179e"
             ],
             [
              0.4444444444444444,
              "#bd3786"
             ],
             [
              0.5555555555555556,
              "#d8576b"
             ],
             [
              0.6666666666666666,
              "#ed7953"
             ],
             [
              0.7777777777777778,
              "#fb9f3a"
             ],
             [
              0.8888888888888888,
              "#fdca26"
             ],
             [
              1,
              "#f0f921"
             ]
            ],
            "type": "histogram2dcontour"
           }
          ],
          "mesh3d": [
           {
            "colorbar": {
             "outlinewidth": 0,
             "ticks": ""
            },
            "type": "mesh3d"
           }
          ],
          "parcoords": [
           {
            "line": {
             "colorbar": {
              "outlinewidth": 0,
              "ticks": ""
             }
            },
            "type": "parcoords"
           }
          ],
          "pie": [
           {
            "automargin": true,
            "type": "pie"
           }
          ],
          "scatter": [
           {
            "fillpattern": {
             "fillmode": "overlay",
             "size": 10,
             "solidity": 0.2
            },
            "type": "scatter"
           }
          ],
          "scatter3d": [
           {
            "line": {
             "colorbar": {
              "outlinewidth": 0,
              "ticks": ""
             }
            },
            "marker": {
             "colorbar": {
              "outlinewidth": 0,
              "ticks": ""
             }
            },
            "type": "scatter3d"
           }
          ],
          "scattercarpet": [
           {
            "marker": {
             "colorbar": {
              "outlinewidth": 0,
              "ticks": ""
             }
            },
            "type": "scattercarpet"
           }
          ],
          "scattergeo": [
           {
            "marker": {
             "colorbar": {
              "outlinewidth": 0,
              "ticks": ""
             }
            },
            "type": "scattergeo"
           }
          ],
          "scattergl": [
           {
            "marker": {
             "colorbar": {
              "outlinewidth": 0,
              "ticks": ""
             }
            },
            "type": "scattergl"
           }
          ],
          "scattermapbox": [
           {
            "marker": {
             "colorbar": {
              "outlinewidth": 0,
              "ticks": ""
             }
            },
            "type": "scattermapbox"
           }
          ],
          "scatterpolar": [
           {
            "marker": {
             "colorbar": {
              "outlinewidth": 0,
              "ticks": ""
             }
            },
            "type": "scatterpolar"
           }
          ],
          "scatterpolargl": [
           {
            "marker": {
             "colorbar": {
              "outlinewidth": 0,
              "ticks": ""
             }
            },
            "type": "scatterpolargl"
           }
          ],
          "scatterternary": [
           {
            "marker": {
             "colorbar": {
              "outlinewidth": 0,
              "ticks": ""
             }
            },
            "type": "scatterternary"
           }
          ],
          "surface": [
           {
            "colorbar": {
             "outlinewidth": 0,
             "ticks": ""
            },
            "colorscale": [
             [
              0,
              "#0d0887"
             ],
             [
              0.1111111111111111,
              "#46039f"
             ],
             [
              0.2222222222222222,
              "#7201a8"
             ],
             [
              0.3333333333333333,
              "#9c179e"
             ],
             [
              0.4444444444444444,
              "#bd3786"
             ],
             [
              0.5555555555555556,
              "#d8576b"
             ],
             [
              0.6666666666666666,
              "#ed7953"
             ],
             [
              0.7777777777777778,
              "#fb9f3a"
             ],
             [
              0.8888888888888888,
              "#fdca26"
             ],
             [
              1,
              "#f0f921"
             ]
            ],
            "type": "surface"
           }
          ],
          "table": [
           {
            "cells": {
             "fill": {
              "color": "#EBF0F8"
             },
             "line": {
              "color": "white"
             }
            },
            "header": {
             "fill": {
              "color": "#C8D4E3"
             },
             "line": {
              "color": "white"
             }
            },
            "type": "table"
           }
          ]
         },
         "layout": {
          "annotationdefaults": {
           "arrowcolor": "#2a3f5f",
           "arrowhead": 0,
           "arrowwidth": 1
          },
          "autotypenumbers": "strict",
          "coloraxis": {
           "colorbar": {
            "outlinewidth": 0,
            "ticks": ""
           }
          },
          "colorscale": {
           "diverging": [
            [
             0,
             "#8e0152"
            ],
            [
             0.1,
             "#c51b7d"
            ],
            [
             0.2,
             "#de77ae"
            ],
            [
             0.3,
             "#f1b6da"
            ],
            [
             0.4,
             "#fde0ef"
            ],
            [
             0.5,
             "#f7f7f7"
            ],
            [
             0.6,
             "#e6f5d0"
            ],
            [
             0.7,
             "#b8e186"
            ],
            [
             0.8,
             "#7fbc41"
            ],
            [
             0.9,
             "#4d9221"
            ],
            [
             1,
             "#276419"
            ]
           ],
           "sequential": [
            [
             0,
             "#0d0887"
            ],
            [
             0.1111111111111111,
             "#46039f"
            ],
            [
             0.2222222222222222,
             "#7201a8"
            ],
            [
             0.3333333333333333,
             "#9c179e"
            ],
            [
             0.4444444444444444,
             "#bd3786"
            ],
            [
             0.5555555555555556,
             "#d8576b"
            ],
            [
             0.6666666666666666,
             "#ed7953"
            ],
            [
             0.7777777777777778,
             "#fb9f3a"
            ],
            [
             0.8888888888888888,
             "#fdca26"
            ],
            [
             1,
             "#f0f921"
            ]
           ],
           "sequentialminus": [
            [
             0,
             "#0d0887"
            ],
            [
             0.1111111111111111,
             "#46039f"
            ],
            [
             0.2222222222222222,
             "#7201a8"
            ],
            [
             0.3333333333333333,
             "#9c179e"
            ],
            [
             0.4444444444444444,
             "#bd3786"
            ],
            [
             0.5555555555555556,
             "#d8576b"
            ],
            [
             0.6666666666666666,
             "#ed7953"
            ],
            [
             0.7777777777777778,
             "#fb9f3a"
            ],
            [
             0.8888888888888888,
             "#fdca26"
            ],
            [
             1,
             "#f0f921"
            ]
           ]
          },
          "colorway": [
           "#636efa",
           "#EF553B",
           "#00cc96",
           "#ab63fa",
           "#FFA15A",
           "#19d3f3",
           "#FF6692",
           "#B6E880",
           "#FF97FF",
           "#FECB52"
          ],
          "font": {
           "color": "#2a3f5f"
          },
          "geo": {
           "bgcolor": "white",
           "lakecolor": "white",
           "landcolor": "#E5ECF6",
           "showlakes": true,
           "showland": true,
           "subunitcolor": "white"
          },
          "hoverlabel": {
           "align": "left"
          },
          "hovermode": "closest",
          "mapbox": {
           "style": "light"
          },
          "paper_bgcolor": "white",
          "plot_bgcolor": "#E5ECF6",
          "polar": {
           "angularaxis": {
            "gridcolor": "white",
            "linecolor": "white",
            "ticks": ""
           },
           "bgcolor": "#E5ECF6",
           "radialaxis": {
            "gridcolor": "white",
            "linecolor": "white",
            "ticks": ""
           }
          },
          "scene": {
           "xaxis": {
            "backgroundcolor": "#E5ECF6",
            "gridcolor": "white",
            "gridwidth": 2,
            "linecolor": "white",
            "showbackground": true,
            "ticks": "",
            "zerolinecolor": "white"
           },
           "yaxis": {
            "backgroundcolor": "#E5ECF6",
            "gridcolor": "white",
            "gridwidth": 2,
            "linecolor": "white",
            "showbackground": true,
            "ticks": "",
            "zerolinecolor": "white"
           },
           "zaxis": {
            "backgroundcolor": "#E5ECF6",
            "gridcolor": "white",
            "gridwidth": 2,
            "linecolor": "white",
            "showbackground": true,
            "ticks": "",
            "zerolinecolor": "white"
           }
          },
          "shapedefaults": {
           "line": {
            "color": "#2a3f5f"
           }
          },
          "ternary": {
           "aaxis": {
            "gridcolor": "white",
            "linecolor": "white",
            "ticks": ""
           },
           "baxis": {
            "gridcolor": "white",
            "linecolor": "white",
            "ticks": ""
           },
           "bgcolor": "#E5ECF6",
           "caxis": {
            "gridcolor": "white",
            "linecolor": "white",
            "ticks": ""
           }
          },
          "title": {
           "x": 0.05
          },
          "xaxis": {
           "automargin": true,
           "gridcolor": "white",
           "linecolor": "white",
           "ticks": "",
           "title": {
            "standoff": 15
           },
           "zerolinecolor": "white",
           "zerolinewidth": 2
          },
          "yaxis": {
           "automargin": true,
           "gridcolor": "white",
           "linecolor": "white",
           "ticks": "",
           "title": {
            "standoff": 15
           },
           "zerolinecolor": "white",
           "zerolinewidth": 2
          }
         }
        }
       }
      }
     },
     "metadata": {},
     "output_type": "display_data"
    }
   ],
   "source": [
    "import plotly.graph_objects as go\n",
    "\n",
    "# 단계별 값 정의 (예: 퍼널 단계)\n",
    "stages = ['All users count', 'Voted users count']\n",
    "values = [total_users_count, voted_users_count]\n",
    "\n",
    "# 퍼널 차트 생성\n",
    "fig = go.Figure(go.Funnel(\n",
    "    y = stages,\n",
    "    x = values,\n",
    "    textinfo = 'text',\n",
    "    texttemplate = \"%{label}: %{x:,}명<br>이전 대비 %{percentPrevious:.1%}\"\n",
    "))\n",
    "\n",
    "fig.show()"
   ]
  },
  {
   "cell_type": "code",
   "execution_count": null,
   "id": "329b11a7",
   "metadata": {},
   "outputs": [],
   "source": [
    "# 월별 유저 수와 월별 투표한 유저 수 시각화\n",
    "\n",
    "# 월별 유저 수와 월별 투표한 유저 수를 계산\n",
    "accounts_user['created_at'] = pd.to_datetime(accounts_user['created_at'])\n",
    "accounts_user['created_at_month'] = accounts_user['created_at'].dt.to_period('M')\n",
    "monthly_user_count = accounts_user.groupby('created_at_month').size().reset_index(name='user_count')\n",
    "\n",
    "accounts_userquestionrecord['created_at'] = pd.to_datetime(accounts_userquestionrecord['created_at'])\n",
    "accounts_userquestionrecord['created_at_month'] = accounts_userquestionrecord['created_at'].dt.to_period('M')\n",
    "monthly_voted_user_count = accounts_userquestionrecord.groupby('created_at_month')['user_id'].nunique().reset_index(name='voted_user_count')"
   ]
  },
  {
   "cell_type": "code",
   "execution_count": 17,
   "id": "0b873aa5",
   "metadata": {},
   "outputs": [
    {
     "data": {
      "text/html": [
       "<div>\n",
       "<style scoped>\n",
       "    .dataframe tbody tr th:only-of-type {\n",
       "        vertical-align: middle;\n",
       "    }\n",
       "\n",
       "    .dataframe tbody tr th {\n",
       "        vertical-align: top;\n",
       "    }\n",
       "\n",
       "    .dataframe thead th {\n",
       "        text-align: right;\n",
       "    }\n",
       "</style>\n",
       "<table border=\"1\" class=\"dataframe\">\n",
       "  <thead>\n",
       "    <tr style=\"text-align: right;\">\n",
       "      <th></th>\n",
       "      <th>created_at_month</th>\n",
       "      <th>user_count</th>\n",
       "    </tr>\n",
       "  </thead>\n",
       "  <tbody>\n",
       "    <tr>\n",
       "      <th>0</th>\n",
       "      <td>2023-03</td>\n",
       "      <td>33</td>\n",
       "    </tr>\n",
       "    <tr>\n",
       "      <th>1</th>\n",
       "      <td>2023-04</td>\n",
       "      <td>19060</td>\n",
       "    </tr>\n",
       "    <tr>\n",
       "      <th>2</th>\n",
       "      <td>2023-05</td>\n",
       "      <td>635505</td>\n",
       "    </tr>\n",
       "    <tr>\n",
       "      <th>3</th>\n",
       "      <td>2023-06</td>\n",
       "      <td>16737</td>\n",
       "    </tr>\n",
       "    <tr>\n",
       "      <th>4</th>\n",
       "      <td>2023-07</td>\n",
       "      <td>1849</td>\n",
       "    </tr>\n",
       "    <tr>\n",
       "      <th>5</th>\n",
       "      <td>2023-08</td>\n",
       "      <td>524</td>\n",
       "    </tr>\n",
       "    <tr>\n",
       "      <th>6</th>\n",
       "      <td>2023-09</td>\n",
       "      <td>605</td>\n",
       "    </tr>\n",
       "    <tr>\n",
       "      <th>7</th>\n",
       "      <td>2023-10</td>\n",
       "      <td>409</td>\n",
       "    </tr>\n",
       "    <tr>\n",
       "      <th>8</th>\n",
       "      <td>2023-11</td>\n",
       "      <td>731</td>\n",
       "    </tr>\n",
       "    <tr>\n",
       "      <th>9</th>\n",
       "      <td>2023-12</td>\n",
       "      <td>231</td>\n",
       "    </tr>\n",
       "    <tr>\n",
       "      <th>10</th>\n",
       "      <td>2024-01</td>\n",
       "      <td>455</td>\n",
       "    </tr>\n",
       "    <tr>\n",
       "      <th>11</th>\n",
       "      <td>2024-02</td>\n",
       "      <td>255</td>\n",
       "    </tr>\n",
       "    <tr>\n",
       "      <th>12</th>\n",
       "      <td>2024-03</td>\n",
       "      <td>446</td>\n",
       "    </tr>\n",
       "    <tr>\n",
       "      <th>13</th>\n",
       "      <td>2024-04</td>\n",
       "      <td>196</td>\n",
       "    </tr>\n",
       "    <tr>\n",
       "      <th>14</th>\n",
       "      <td>2024-05</td>\n",
       "      <td>49</td>\n",
       "    </tr>\n",
       "  </tbody>\n",
       "</table>\n",
       "</div>"
      ],
      "text/plain": [
       "   created_at_month  user_count\n",
       "0           2023-03          33\n",
       "1           2023-04       19060\n",
       "2           2023-05      635505\n",
       "3           2023-06       16737\n",
       "4           2023-07        1849\n",
       "5           2023-08         524\n",
       "6           2023-09         605\n",
       "7           2023-10         409\n",
       "8           2023-11         731\n",
       "9           2023-12         231\n",
       "10          2024-01         455\n",
       "11          2024-02         255\n",
       "12          2024-03         446\n",
       "13          2024-04         196\n",
       "14          2024-05          49"
      ]
     },
     "metadata": {},
     "output_type": "display_data"
    },
    {
     "data": {
      "text/html": [
       "<div>\n",
       "<style scoped>\n",
       "    .dataframe tbody tr th:only-of-type {\n",
       "        vertical-align: middle;\n",
       "    }\n",
       "\n",
       "    .dataframe tbody tr th {\n",
       "        vertical-align: top;\n",
       "    }\n",
       "\n",
       "    .dataframe thead th {\n",
       "        text-align: right;\n",
       "    }\n",
       "</style>\n",
       "<table border=\"1\" class=\"dataframe\">\n",
       "  <thead>\n",
       "    <tr style=\"text-align: right;\">\n",
       "      <th></th>\n",
       "      <th>created_at_month</th>\n",
       "      <th>voted_user_count</th>\n",
       "    </tr>\n",
       "  </thead>\n",
       "  <tbody>\n",
       "    <tr>\n",
       "      <th>0</th>\n",
       "      <td>2023-04</td>\n",
       "      <td>338</td>\n",
       "    </tr>\n",
       "    <tr>\n",
       "      <th>1</th>\n",
       "      <td>2023-05</td>\n",
       "      <td>4797</td>\n",
       "    </tr>\n",
       "    <tr>\n",
       "      <th>2</th>\n",
       "      <td>2023-06</td>\n",
       "      <td>1872</td>\n",
       "    </tr>\n",
       "    <tr>\n",
       "      <th>3</th>\n",
       "      <td>2023-07</td>\n",
       "      <td>389</td>\n",
       "    </tr>\n",
       "    <tr>\n",
       "      <th>4</th>\n",
       "      <td>2023-08</td>\n",
       "      <td>170</td>\n",
       "    </tr>\n",
       "    <tr>\n",
       "      <th>5</th>\n",
       "      <td>2023-09</td>\n",
       "      <td>178</td>\n",
       "    </tr>\n",
       "    <tr>\n",
       "      <th>6</th>\n",
       "      <td>2023-10</td>\n",
       "      <td>46</td>\n",
       "    </tr>\n",
       "    <tr>\n",
       "      <th>7</th>\n",
       "      <td>2023-11</td>\n",
       "      <td>22</td>\n",
       "    </tr>\n",
       "    <tr>\n",
       "      <th>8</th>\n",
       "      <td>2023-12</td>\n",
       "      <td>26</td>\n",
       "    </tr>\n",
       "    <tr>\n",
       "      <th>9</th>\n",
       "      <td>2024-01</td>\n",
       "      <td>19</td>\n",
       "    </tr>\n",
       "    <tr>\n",
       "      <th>10</th>\n",
       "      <td>2024-02</td>\n",
       "      <td>9</td>\n",
       "    </tr>\n",
       "    <tr>\n",
       "      <th>11</th>\n",
       "      <td>2024-03</td>\n",
       "      <td>13</td>\n",
       "    </tr>\n",
       "    <tr>\n",
       "      <th>12</th>\n",
       "      <td>2024-04</td>\n",
       "      <td>4</td>\n",
       "    </tr>\n",
       "    <tr>\n",
       "      <th>13</th>\n",
       "      <td>2024-05</td>\n",
       "      <td>6</td>\n",
       "    </tr>\n",
       "  </tbody>\n",
       "</table>\n",
       "</div>"
      ],
      "text/plain": [
       "   created_at_month  voted_user_count\n",
       "0           2023-04               338\n",
       "1           2023-05              4797\n",
       "2           2023-06              1872\n",
       "3           2023-07               389\n",
       "4           2023-08               170\n",
       "5           2023-09               178\n",
       "6           2023-10                46\n",
       "7           2023-11                22\n",
       "8           2023-12                26\n",
       "9           2024-01                19\n",
       "10          2024-02                 9\n",
       "11          2024-03                13\n",
       "12          2024-04                 4\n",
       "13          2024-05                 6"
      ]
     },
     "metadata": {},
     "output_type": "display_data"
    },
    {
     "data": {
      "image/png": "[encoded data removed]",
      "text/plain": [
       "<Figure size 1200x600 with 2 Axes>"
      ]
     },
     "metadata": {},
     "output_type": "display_data"
    }
   ],
   "source": [
    "display(monthly_user_count)\n",
    "display(monthly_voted_user_count)\n",
    "\n",
    "fig, (ax1, ax2) = plt.subplots(2, 1, figsize=(12, 6), tight_layout=True)\n",
    "ax1.plot(monthly_user_count['created_at_month'].astype(str), monthly_user_count['user_count'], marker='o', label='월별 유저 수')\n",
    "ax2.plot(monthly_voted_user_count['created_at_month'].astype(str), monthly_voted_user_count['voted_user_count'], marker='o', label='월별 투표한 유저 수')\n",
    "ax1.set_title('monthly user count')\n",
    "ax2.set_title('monthly voted user count')\n",
    "ax1.tick_params(axis='x', rotation=45)\n",
    "ax2.tick_params(axis='x', rotation=45)"
   ]
  },
  {
   "cell_type": "code",
   "execution_count": null,
   "id": "5774f91d",
   "metadata": {},
   "outputs": [],
   "source": []
  },
  {
   "cell_type": "code",
   "execution_count": null,
   "id": "c510744a",
   "metadata": {},
   "outputs": [],
   "source": []
  }
 ],
 "metadata": {
  "kernelspec": {
   "display_name": "base",
   "language": "python",
   "name": "python3"
  },
  "language_info": {
   "codemirror_mode": {
    "name": "ipython",
    "version": 3
   },
   "file_extension": ".py",
   "mimetype": "text/x-python",
   "name": "python",
   "nbconvert_exporter": "python",
   "pygments_lexer": "ipython3",
   "version": "3.12.3"
  }
 },
 "nbformat": 4,
 "nbformat_minor": 5
}
