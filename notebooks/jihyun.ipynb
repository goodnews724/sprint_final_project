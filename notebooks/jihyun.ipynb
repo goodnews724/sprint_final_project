{
 "cells": [
  {
   "cell_type": "markdown",
   "id": "7a918f75",
   "metadata": {},
   "source": [
    "## 초기 EDA"
   ]
  },
  {
   "cell_type": "markdown",
   "id": "4d319dd4",
   "metadata": {},
   "source": [
    "### 신고/차단 관련 데이터 명세"
   ]
  },
  {
   "cell_type": "code",
   "execution_count": 24,
   "id": "0f37798d",
   "metadata": {},
   "outputs": [],
   "source": [
    "import os\n",
    "import pandas as pd\n",
    "import numpy as np\n",
    "import ast\n",
    "import matplotlib.pyplot as plt\n",
    "import koreanize_matplotlib\n",
    "from google.cloud import storage\n",
    "import gcsfs"
   ]
  },
  {
   "cell_type": "code",
   "execution_count": 3,
   "id": "f88a65dc",
   "metadata": {},
   "outputs": [],
   "source": [
    "gcs_parquet_path = \"gs://sprintda05_final_project/votes/accounts_timelinereport.parquet\"\n",
    "accounts_timelinereport = pd.read_parquet(gcs_parquet_path, engine='pyarrow').drop(columns='id')"
   ]
  },
  {
   "cell_type": "code",
   "execution_count": 32,
   "id": "53695e1c",
   "metadata": {},
   "outputs": [
    {
     "data": {
      "image/png": "[encoded data removed]",
      "text/plain": [
       "<Figure size 640x480 with 1 Axes>"
      ]
     },
     "metadata": {},
     "output_type": "display_data"
    }
   ],
   "source": [
    "fig, ax = plt.subplots()\n",
    "# fig.patch.set_facecolor('none')\n",
    "ax.bar(accounts_timelinereport['reason'].value_counts().reset_index()['reason'], height=accounts_timelinereport['reason'].value_counts().reset_index()['count'])\n",
    "plt.xticks(rotation=90)\n",
    "plt.show()"
   ]
  },
  {
   "cell_type": "code",
   "execution_count": 3,
   "id": "4b8a7428",
   "metadata": {},
   "outputs": [],
   "source": [
    "gcs_parquet_path = \"gs://sprintda05_final_project/votes/accounts_blockrecord.parquet\"\n",
    "accounts_blockrecord = pd.read_parquet(gcs_parquet_path, engine='pyarrow').drop(columns='id')"
   ]
  },
  {
   "cell_type": "code",
   "execution_count": 33,
   "id": "2aeb7822",
   "metadata": {},
   "outputs": [],
   "source": [
    "gcs_parquet_path = \"gs://sprintda05_final_project/votes/accounts_user.parquet\"\n",
    "accounts_user = pd.read_parquet(gcs_parquet_path, engine='pyarrow')"
   ]
  },
  {
   "cell_type": "code",
   "execution_count": 106,
   "id": "611abfb6",
   "metadata": {},
   "outputs": [
    {
     "data": {
      "text/html": [
       "<div>\n",
       "<style scoped>\n",
       "    .dataframe tbody tr th:only-of-type {\n",
       "        vertical-align: middle;\n",
       "    }\n",
       "\n",
       "    .dataframe tbody tr th {\n",
       "        vertical-align: top;\n",
       "    }\n",
       "\n",
       "    .dataframe thead th {\n",
       "        text-align: right;\n",
       "    }\n",
       "</style>\n",
       "<table border=\"1\" class=\"dataframe\">\n",
       "  <thead>\n",
       "    <tr style=\"text-align: right;\">\n",
       "      <th></th>\n",
       "      <th>reason_report</th>\n",
       "      <th>created_at_report</th>\n",
       "      <th>reported_user_id</th>\n",
       "      <th>user_id</th>\n",
       "      <th>user_question_record_id</th>\n",
       "      <th>reason_block</th>\n",
       "      <th>created_at_block</th>\n",
       "      <th>block_user_id</th>\n",
       "    </tr>\n",
       "  </thead>\n",
       "  <tbody>\n",
       "    <tr>\n",
       "      <th>0</th>\n",
       "      <td>허위 사실 언급</td>\n",
       "      <td>2023-05-12 02:48:56</td>\n",
       "      <td>1150928</td>\n",
       "      <td>1137878</td>\n",
       "      <td>26226336</td>\n",
       "      <td>모르는 사람임</td>\n",
       "      <td>2023-05-14 02:55:26</td>\n",
       "      <td>1150928</td>\n",
       "    </tr>\n",
       "  </tbody>\n",
       "</table>\n",
       "</div>"
      ],
      "text/plain": [
       "  reason_report   created_at_report  reported_user_id  user_id  \\\n",
       "0      허위 사실 언급 2023-05-12 02:48:56           1150928  1137878   \n",
       "\n",
       "   user_question_record_id reason_block    created_at_block  block_user_id  \n",
       "0                 26226336      모르는 사람임 2023-05-14 02:55:26        1150928  "
      ]
     },
     "execution_count": 106,
     "metadata": {},
     "output_type": "execute_result"
    }
   ],
   "source": [
    "# 신고내역과 차단내역(accounts_blockrecord) 간의 관계 조사\n",
    "df_merge_block = accounts_timelinereport.merge(accounts_blockrecord, left_on=['user_id','reported_user_id'], right_on=['user_id','block_user_id'],suffixes=('_report', '_block'))\n",
    "df_merge_block"
   ]
  },
  {
   "cell_type": "code",
   "execution_count": null,
   "id": "7f6a259e",
   "metadata": {},
   "outputs": [
    {
     "name": "stderr",
     "output_type": "stream",
     "text": [
      "/tmp/ipykernel_226/177197795.py:3: SettingWithCopyWarning: \n",
      "A value is trying to be set on a copy of a slice from a DataFrame.\n",
      "Try using .loc[row_indexer,col_indexer] = value instead\n",
      "\n",
      "See the caveats in the documentation: https://pandas.pydata.org/pandas-docs/stable/user_guide/indexing.html#returning-a-view-versus-a-copy\n",
      "  accounts_user_dropna['block_user_id_list'] = accounts_user_dropna['block_user_id_list'].apply(lambda x: ast.literal_eval(x) if isinstance(x, str) else x)\n"
     ]
    },
    {
     "data": {
      "text/html": [
       "<div>\n",
       "<style scoped>\n",
       "    .dataframe tbody tr th:only-of-type {\n",
       "        vertical-align: middle;\n",
       "    }\n",
       "\n",
       "    .dataframe tbody tr th {\n",
       "        vertical-align: top;\n",
       "    }\n",
       "\n",
       "    .dataframe thead th {\n",
       "        text-align: right;\n",
       "    }\n",
       "</style>\n",
       "<table border=\"1\" class=\"dataframe\">\n",
       "  <thead>\n",
       "    <tr style=\"text-align: right;\">\n",
       "      <th></th>\n",
       "      <th>id</th>\n",
       "      <th>block_user_id_list</th>\n",
       "    </tr>\n",
       "  </thead>\n",
       "  <tbody>\n",
       "    <tr>\n",
       "      <th>162</th>\n",
       "      <td>837615</td>\n",
       "      <td>839155</td>\n",
       "    </tr>\n",
       "    <tr>\n",
       "      <th>208</th>\n",
       "      <td>837689</td>\n",
       "      <td>834325</td>\n",
       "    </tr>\n",
       "    <tr>\n",
       "      <th>285</th>\n",
       "      <td>837784</td>\n",
       "      <td>834325</td>\n",
       "    </tr>\n",
       "    <tr>\n",
       "      <th>287</th>\n",
       "      <td>837786</td>\n",
       "      <td>1158705</td>\n",
       "    </tr>\n",
       "    <tr>\n",
       "      <th>287</th>\n",
       "      <td>837786</td>\n",
       "      <td>1108926</td>\n",
       "    </tr>\n",
       "    <tr>\n",
       "      <th>...</th>\n",
       "      <td>...</td>\n",
       "      <td>...</td>\n",
       "    </tr>\n",
       "    <tr>\n",
       "      <th>668524</th>\n",
       "      <td>1574460</td>\n",
       "      <td>1576077</td>\n",
       "    </tr>\n",
       "    <tr>\n",
       "      <th>668524</th>\n",
       "      <td>1574460</td>\n",
       "      <td>1576581</td>\n",
       "    </tr>\n",
       "    <tr>\n",
       "      <th>668575</th>\n",
       "      <td>1574512</td>\n",
       "      <td>1005876</td>\n",
       "    </tr>\n",
       "    <tr>\n",
       "      <th>670207</th>\n",
       "      <td>1576284</td>\n",
       "      <td>1349412</td>\n",
       "    </tr>\n",
       "    <tr>\n",
       "      <th>672023</th>\n",
       "      <td>1578333</td>\n",
       "      <td>1578352</td>\n",
       "    </tr>\n",
       "  </tbody>\n",
       "</table>\n",
       "<p>7687 rows × 2 columns</p>\n",
       "</div>"
      ],
      "text/plain": [
       "             id block_user_id_list\n",
       "162      837615             839155\n",
       "208      837689             834325\n",
       "285      837784             834325\n",
       "287      837786            1158705\n",
       "287      837786            1108926\n",
       "...         ...                ...\n",
       "668524  1574460            1576077\n",
       "668524  1574460            1576581\n",
       "668575  1574512            1005876\n",
       "670207  1576284            1349412\n",
       "672023  1578333            1578352\n",
       "\n",
       "[7687 rows x 2 columns]"
      ]
     },
     "execution_count": 124,
     "metadata": {},
     "output_type": "execute_result"
    }
   ],
   "source": [
    "# block_user_id_list 여러 행으로 explode\n",
    "accounts_user_nan = accounts_user.replace('[]', np.nan)\n",
    "accounts_user_dropna = accounts_user_nan.dropna()\n",
    "accounts_user_dropna['block_user_id_list'] = accounts_user_dropna['block_user_id_list'].apply(lambda x: ast.literal_eval(x) if isinstance(x, str) else x)\n",
    "accounts_user_explode = accounts_user_dropna[['id','block_user_id_list']].explode('block_user_id_list')\n",
    "accounts_user_explode"
   ]
  },
  {
   "cell_type": "code",
   "execution_count": 125,
   "id": "24516b0e",
   "metadata": {},
   "outputs": [
    {
     "data": {
      "text/html": [
       "<div>\n",
       "<style scoped>\n",
       "    .dataframe tbody tr th:only-of-type {\n",
       "        vertical-align: middle;\n",
       "    }\n",
       "\n",
       "    .dataframe tbody tr th {\n",
       "        vertical-align: top;\n",
       "    }\n",
       "\n",
       "    .dataframe thead th {\n",
       "        text-align: right;\n",
       "    }\n",
       "</style>\n",
       "<table border=\"1\" class=\"dataframe\">\n",
       "  <thead>\n",
       "    <tr style=\"text-align: right;\">\n",
       "      <th></th>\n",
       "      <th>reason</th>\n",
       "      <th>created_at</th>\n",
       "      <th>reported_user_id</th>\n",
       "      <th>user_id</th>\n",
       "      <th>user_question_record_id</th>\n",
       "      <th>id</th>\n",
       "      <th>block_user_id_list</th>\n",
       "    </tr>\n",
       "  </thead>\n",
       "  <tbody>\n",
       "  </tbody>\n",
       "</table>\n",
       "</div>"
      ],
      "text/plain": [
       "Empty DataFrame\n",
       "Columns: [reason, created_at, reported_user_id, user_id, user_question_record_id, id, block_user_id_list]\n",
       "Index: []"
      ]
     },
     "execution_count": 125,
     "metadata": {},
     "output_type": "execute_result"
    }
   ],
   "source": [
    "# 신고내역과 차단내역(block_user_id_list) 간의 관계 조사\n",
    "df_merge_ban = accounts_timelinereport.merge(accounts_user_explode, left_on=['user_id','reported_user_id'], right_on=['id','block_user_id_list'],suffixes=('_report', '_ban'))\n",
    "df_merge_ban"
   ]
  },
  {
   "cell_type": "code",
   "execution_count": null,
   "id": "d6723717",
   "metadata": {},
   "outputs": [
    {
     "name": "stderr",
     "output_type": "stream",
     "text": [
      "/tmp/ipykernel_226/1497952159.py:1: SettingWithCopyWarning: \n",
      "A value is trying to be set on a copy of a slice from a DataFrame.\n",
      "Try using .loc[row_indexer,col_indexer] = value instead\n",
      "\n",
      "See the caveats in the documentation: https://pandas.pydata.org/pandas-docs/stable/user_guide/indexing.html#returning-a-view-versus-a-copy\n",
      "  accounts_user_dropna['hide_user_id_list'] = accounts_user_dropna['hide_user_id_list'].apply(lambda x: ast.literal_eval(x) if isinstance(x, str) else x)\n"
     ]
    },
    {
     "data": {
      "text/html": [
       "<div>\n",
       "<style scoped>\n",
       "    .dataframe tbody tr th:only-of-type {\n",
       "        vertical-align: middle;\n",
       "    }\n",
       "\n",
       "    .dataframe tbody tr th {\n",
       "        vertical-align: top;\n",
       "    }\n",
       "\n",
       "    .dataframe thead th {\n",
       "        text-align: right;\n",
       "    }\n",
       "</style>\n",
       "<table border=\"1\" class=\"dataframe\">\n",
       "  <thead>\n",
       "    <tr style=\"text-align: right;\">\n",
       "      <th></th>\n",
       "      <th>id</th>\n",
       "      <th>hide_user_id_list</th>\n",
       "    </tr>\n",
       "  </thead>\n",
       "  <tbody>\n",
       "    <tr>\n",
       "      <th>162</th>\n",
       "      <td>837615</td>\n",
       "      <td>837661</td>\n",
       "    </tr>\n",
       "    <tr>\n",
       "      <th>208</th>\n",
       "      <td>837689</td>\n",
       "      <td>838168</td>\n",
       "    </tr>\n",
       "    <tr>\n",
       "      <th>208</th>\n",
       "      <td>837689</td>\n",
       "      <td>837745</td>\n",
       "    </tr>\n",
       "    <tr>\n",
       "      <th>285</th>\n",
       "      <td>837784</td>\n",
       "      <td>837684</td>\n",
       "    </tr>\n",
       "    <tr>\n",
       "      <th>285</th>\n",
       "      <td>837784</td>\n",
       "      <td>839155</td>\n",
       "    </tr>\n",
       "    <tr>\n",
       "      <th>...</th>\n",
       "      <td>...</td>\n",
       "      <td>...</td>\n",
       "    </tr>\n",
       "    <tr>\n",
       "      <th>668575</th>\n",
       "      <td>1574512</td>\n",
       "      <td>1129856</td>\n",
       "    </tr>\n",
       "    <tr>\n",
       "      <th>670207</th>\n",
       "      <td>1576284</td>\n",
       "      <td>1349412</td>\n",
       "    </tr>\n",
       "    <tr>\n",
       "      <th>672023</th>\n",
       "      <td>1578333</td>\n",
       "      <td>1578352</td>\n",
       "    </tr>\n",
       "    <tr>\n",
       "      <th>672023</th>\n",
       "      <td>1578333</td>\n",
       "      <td>1578399</td>\n",
       "    </tr>\n",
       "    <tr>\n",
       "      <th>672023</th>\n",
       "      <td>1578333</td>\n",
       "      <td>1578494</td>\n",
       "    </tr>\n",
       "  </tbody>\n",
       "</table>\n",
       "<p>47084 rows × 2 columns</p>\n",
       "</div>"
      ],
      "text/plain": [
       "             id hide_user_id_list\n",
       "162      837615            837661\n",
       "208      837689            838168\n",
       "208      837689            837745\n",
       "285      837784            837684\n",
       "285      837784            839155\n",
       "...         ...               ...\n",
       "668575  1574512           1129856\n",
       "670207  1576284           1349412\n",
       "672023  1578333           1578352\n",
       "672023  1578333           1578399\n",
       "672023  1578333           1578494\n",
       "\n",
       "[47084 rows x 2 columns]"
      ]
     },
     "execution_count": 126,
     "metadata": {},
     "output_type": "execute_result"
    }
   ],
   "source": [
    "# hide_user_id_list 여러 행으로 explode\n",
    "accounts_user_dropna['hide_user_id_list'] = accounts_user_dropna['hide_user_id_list'].apply(lambda x: ast.literal_eval(x) if isinstance(x, str) else x)\n",
    "accounts_user_explode = accounts_user_dropna[['id','hide_user_id_list']].explode('hide_user_id_list')\n",
    "accounts_user_explode"
   ]
  },
  {
   "cell_type": "code",
   "execution_count": 127,
   "id": "018f315a",
   "metadata": {},
   "outputs": [
    {
     "data": {
      "text/html": [
       "<div>\n",
       "<style scoped>\n",
       "    .dataframe tbody tr th:only-of-type {\n",
       "        vertical-align: middle;\n",
       "    }\n",
       "\n",
       "    .dataframe tbody tr th {\n",
       "        vertical-align: top;\n",
       "    }\n",
       "\n",
       "    .dataframe thead th {\n",
       "        text-align: right;\n",
       "    }\n",
       "</style>\n",
       "<table border=\"1\" class=\"dataframe\">\n",
       "  <thead>\n",
       "    <tr style=\"text-align: right;\">\n",
       "      <th></th>\n",
       "      <th>reason</th>\n",
       "      <th>created_at</th>\n",
       "      <th>reported_user_id</th>\n",
       "      <th>user_id</th>\n",
       "      <th>user_question_record_id</th>\n",
       "      <th>id</th>\n",
       "      <th>hide_user_id_list</th>\n",
       "    </tr>\n",
       "  </thead>\n",
       "  <tbody>\n",
       "  </tbody>\n",
       "</table>\n",
       "</div>"
      ],
      "text/plain": [
       "Empty DataFrame\n",
       "Columns: [reason, created_at, reported_user_id, user_id, user_question_record_id, id, hide_user_id_list]\n",
       "Index: []"
      ]
     },
     "execution_count": 127,
     "metadata": {},
     "output_type": "execute_result"
    }
   ],
   "source": [
    "# 신고내역과 숨김내역(hide_user_id_list) 간의 관계 조사\n",
    "df_merge_hide = accounts_timelinereport.merge(accounts_user_explode, left_on=['user_id','reported_user_id'], right_on=['id','hide_user_id_list'],suffixes=('_report', '_hide'))\n",
    "df_merge_hide"
   ]
  },
  {
   "cell_type": "code",
   "execution_count": 161,
   "id": "a0a47c26",
   "metadata": {},
   "outputs": [
    {
     "data": {
      "text/html": [
       "<div>\n",
       "<style scoped>\n",
       "    .dataframe tbody tr th:only-of-type {\n",
       "        vertical-align: middle;\n",
       "    }\n",
       "\n",
       "    .dataframe tbody tr th {\n",
       "        vertical-align: top;\n",
       "    }\n",
       "\n",
       "    .dataframe thead th {\n",
       "        text-align: right;\n",
       "    }\n",
       "</style>\n",
       "<table border=\"1\" class=\"dataframe\">\n",
       "  <thead>\n",
       "    <tr style=\"text-align: right;\">\n",
       "      <th></th>\n",
       "      <th>ban_status</th>\n",
       "      <th>count</th>\n",
       "    </tr>\n",
       "  </thead>\n",
       "  <tbody>\n",
       "    <tr>\n",
       "      <th>0</th>\n",
       "      <td>N</td>\n",
       "      <td>668432</td>\n",
       "    </tr>\n",
       "    <tr>\n",
       "      <th>1</th>\n",
       "      <td>W</td>\n",
       "      <td>7855</td>\n",
       "    </tr>\n",
       "    <tr>\n",
       "      <th>2</th>\n",
       "      <td>NB</td>\n",
       "      <td>608</td>\n",
       "    </tr>\n",
       "    <tr>\n",
       "      <th>3</th>\n",
       "      <td>RB</td>\n",
       "      <td>190</td>\n",
       "    </tr>\n",
       "  </tbody>\n",
       "</table>\n",
       "</div>"
      ],
      "text/plain": [
       "  ban_status   count\n",
       "0          N  668432\n",
       "1          W    7855\n",
       "2         NB     608\n",
       "3         RB     190"
      ]
     },
     "execution_count": 161,
     "metadata": {},
     "output_type": "execute_result"
    }
   ],
   "source": [
    "ban_status_total = accounts_user['ban_status'].value_counts().reset_index()\n",
    "ban_status_total"
   ]
  },
  {
   "cell_type": "code",
   "execution_count": 155,
   "id": "bb6dabb5",
   "metadata": {},
   "outputs": [],
   "source": [
    "import matplotlib.pyplot as plt"
   ]
  },
  {
   "cell_type": "code",
   "execution_count": 172,
   "id": "8c6a1e1e",
   "metadata": {},
   "outputs": [
    {
     "data": {
      "image/png": "[encoded data removed]",
      "text/plain": [
       "<Figure size 640x480 with 1 Axes>"
      ]
     },
     "metadata": {},
     "output_type": "display_data"
    }
   ],
   "source": [
    "fig, ax = plt.subplots()\n",
    "fig.patch.set_facecolor('none')\n",
    "ax.pie(ban_status_total['count'], labels=ban_status_total['ban_status'], autopct='%1.1f%%',)\n",
    "ax.legend()\n",
    "plt.show()"
   ]
  },
  {
   "cell_type": "code",
   "execution_count": 173,
   "id": "b48b7391",
   "metadata": {},
   "outputs": [],
   "source": [
    "# 총 신고 횟수와 ban_status 간의 관계\n",
    "\n",
    "report_cnt = accounts_timelinereport['reported_user_id'].value_counts().reset_index()\n",
    "ban_status = accounts_user[['id','ban_status']]\n",
    "merge_report_ban = pd.merge(report_cnt, ban_status, left_on='reported_user_id', right_on='id')\n",
    "report_ban_total = merge_report_ban['ban_status'].value_counts().reset_index()"
   ]
  },
  {
   "cell_type": "code",
   "execution_count": 174,
   "id": "2634afbf",
   "metadata": {},
   "outputs": [
    {
     "data": {
      "image/png": "[encoded data removed]",
      "text/plain": [
       "<Figure size 640x480 with 1 Axes>"
      ]
     },
     "metadata": {},
     "output_type": "display_data"
    }
   ],
   "source": [
    "fig, ax = plt.subplots()\n",
    "fig.patch.set_facecolor('none')\n",
    "ax.pie(report_ban_total['count'], labels=report_ban_total['ban_status'], autopct='%1.1f%%',)\n",
    "ax.legend()\n",
    "plt.show()"
   ]
  },
  {
   "cell_type": "code",
   "execution_count": 175,
   "id": "84482000",
   "metadata": {},
   "outputs": [],
   "source": [
    "# 총 차단 횟수와 ban_status 간의 관계\n",
    "\n",
    "block_cnt = accounts_blockrecord['block_user_id'].value_counts().reset_index()\n",
    "ban_status = accounts_user[['id','ban_status']]\n",
    "merge_block_ban = pd.merge(block_cnt, ban_status, left_on='block_user_id', right_on='id')\n",
    "block_ban_total = merge_block_ban['ban_status'].value_counts().reset_index()"
   ]
  },
  {
   "cell_type": "code",
   "execution_count": null,
   "id": "1cfd761b",
   "metadata": {},
   "outputs": [
    {
     "data": {
      "image/png": "[encoded data removed]",
      "text/plain": [
       "<Figure size 640x480 with 1 Axes>"
      ]
     },
     "metadata": {},
     "output_type": "display_data"
    }
   ],
   "source": [
    "fig, ax = plt.subplots()\n",
    "fig.patch.set_facecolor('none')\n",
    "ax.pie(block_ban_total['count'], labels=block_ban_total['ban_status'], autopct='%1.1f%%',)\n",
    "ax.legend()\n",
    "plt.show()"
   ]
  },
  {
   "cell_type": "code",
   "execution_count": 150,
   "id": "54d90351",
   "metadata": {},
   "outputs": [
    {
     "data": {
      "text/plain": [
       "count\n",
       "1    23\n",
       "4     1\n",
       "3     1\n",
       "2     1\n",
       "Name: count, dtype: int64"
      ]
     },
     "execution_count": 150,
     "metadata": {},
     "output_type": "execute_result"
    }
   ],
   "source": [
    "merge_block_ban[merge_block_ban['ban_status']=='NB']['count'].value_counts()"
   ]
  },
  {
   "cell_type": "code",
   "execution_count": 151,
   "id": "06408737",
   "metadata": {},
   "outputs": [
    {
     "data": {
      "text/plain": [
       "count\n",
       "1     5\n",
       "2     2\n",
       "11    1\n",
       "Name: count, dtype: int64"
      ]
     },
     "execution_count": 151,
     "metadata": {},
     "output_type": "execute_result"
    }
   ],
   "source": [
    "merge_block_ban[merge_block_ban['ban_status']=='RB']['count'].value_counts()"
   ]
  },
  {
   "cell_type": "markdown",
   "id": "b64215c2",
   "metadata": {},
   "source": [
    "### 친구는 쌍방일까?"
   ]
  },
  {
   "cell_type": "code",
   "execution_count": 6,
   "id": "99278cc2",
   "metadata": {},
   "outputs": [
    {
     "data": {
      "text/html": [
       "<div>\n",
       "<style scoped>\n",
       "    .dataframe tbody tr th:only-of-type {\n",
       "        vertical-align: middle;\n",
       "    }\n",
       "\n",
       "    .dataframe tbody tr th {\n",
       "        vertical-align: top;\n",
       "    }\n",
       "\n",
       "    .dataframe thead th {\n",
       "        text-align: right;\n",
       "    }\n",
       "</style>\n",
       "<table border=\"1\" class=\"dataframe\">\n",
       "  <thead>\n",
       "    <tr style=\"text-align: right;\">\n",
       "      <th></th>\n",
       "      <th>id</th>\n",
       "      <th>friend_id_list</th>\n",
       "    </tr>\n",
       "  </thead>\n",
       "  <tbody>\n",
       "    <tr>\n",
       "      <th>0</th>\n",
       "      <td>831956</td>\n",
       "      <td>1292473</td>\n",
       "    </tr>\n",
       "    <tr>\n",
       "      <th>0</th>\n",
       "      <td>831956</td>\n",
       "      <td>913158</td>\n",
       "    </tr>\n",
       "    <tr>\n",
       "      <th>0</th>\n",
       "      <td>831956</td>\n",
       "      <td>1488461</td>\n",
       "    </tr>\n",
       "    <tr>\n",
       "      <th>0</th>\n",
       "      <td>831956</td>\n",
       "      <td>1064695</td>\n",
       "    </tr>\n",
       "    <tr>\n",
       "      <th>0</th>\n",
       "      <td>831956</td>\n",
       "      <td>1043565</td>\n",
       "    </tr>\n",
       "    <tr>\n",
       "      <th>...</th>\n",
       "      <td>...</td>\n",
       "      <td>...</td>\n",
       "    </tr>\n",
       "    <tr>\n",
       "      <th>677082</th>\n",
       "      <td>1583731</td>\n",
       "      <td>1583673</td>\n",
       "    </tr>\n",
       "    <tr>\n",
       "      <th>677083</th>\n",
       "      <td>1583732</td>\n",
       "      <td>1583673</td>\n",
       "    </tr>\n",
       "    <tr>\n",
       "      <th>677083</th>\n",
       "      <td>1583732</td>\n",
       "      <td>1583730</td>\n",
       "    </tr>\n",
       "    <tr>\n",
       "      <th>677083</th>\n",
       "      <td>1583732</td>\n",
       "      <td>1583731</td>\n",
       "    </tr>\n",
       "    <tr>\n",
       "      <th>677084</th>\n",
       "      <td>1583733</td>\n",
       "      <td>NaN</td>\n",
       "    </tr>\n",
       "  </tbody>\n",
       "</table>\n",
       "<p>36110260 rows × 2 columns</p>\n",
       "</div>"
      ],
      "text/plain": [
       "             id friend_id_list\n",
       "0        831956        1292473\n",
       "0        831956         913158\n",
       "0        831956        1488461\n",
       "0        831956        1064695\n",
       "0        831956        1043565\n",
       "...         ...            ...\n",
       "677082  1583731        1583673\n",
       "677083  1583732        1583673\n",
       "677083  1583732        1583730\n",
       "677083  1583732        1583731\n",
       "677084  1583733            NaN\n",
       "\n",
       "[36110260 rows x 2 columns]"
      ]
     },
     "execution_count": 6,
     "metadata": {},
     "output_type": "execute_result"
    }
   ],
   "source": [
    "accounts_user_frnd = accounts_user.copy()\n",
    "accounts_user_frnd['friend_id_list'] = accounts_user_frnd['friend_id_list'].apply(lambda x: ast.literal_eval(x) if isinstance(x, str) else x)\n",
    "accounts_user_frnd_explode = accounts_user_frnd[['id','friend_id_list']].explode('friend_id_list')\n",
    "accounts_user_frnd_explode"
   ]
  },
  {
   "cell_type": "code",
   "execution_count": 7,
   "id": "715f8278",
   "metadata": {},
   "outputs": [
    {
     "data": {
      "text/plain": [
       "(36107386, 2)"
      ]
     },
     "execution_count": 7,
     "metadata": {},
     "output_type": "execute_result"
    }
   ],
   "source": [
    "accounts_user_frnd_explode = accounts_user_frnd_explode.dropna()\n",
    "accounts_user_frnd_explode.shape"
   ]
  },
  {
   "cell_type": "code",
   "execution_count": 8,
   "id": "719bf765",
   "metadata": {},
   "outputs": [],
   "source": [
    "accounts_user_frnd_explode = accounts_user_frnd_explode.reset_index(drop=True)"
   ]
  },
  {
   "cell_type": "code",
   "execution_count": null,
   "id": "52e0a928",
   "metadata": {},
   "outputs": [],
   "source": [
    "pairs = set(zip(accounts_user_frnd_explode['id'], accounts_user_frnd_explode['friend_id_list']))\n",
    "\n",
    "# 쌍방이어야 하는 반대 방향 쌍 생성\n",
    "reverse_pairs = set((b, a) for (a, b) in pairs)\n",
    "\n",
    "# 쌍방 아닌 것만 추출\n",
    "non_mutual = pairs - reverse_pairs"
   ]
  },
  {
   "cell_type": "code",
   "execution_count": 12,
   "id": "4c4639fc",
   "metadata": {},
   "outputs": [
    {
     "name": "stdout",
     "output_type": "stream",
     "text": [
      "쌍방 아닌 관계의 개수:\n",
      "183902\n"
     ]
    }
   ],
   "source": [
    "print(\"쌍방 아닌 관계의 개수:\")\n",
    "print(len(non_mutual))"
   ]
  },
  {
   "cell_type": "markdown",
   "id": "7633ca97",
   "metadata": {},
   "source": [
    "### 데이터 품질 검사"
   ]
  },
  {
   "cell_type": "code",
   "execution_count": null,
   "id": "2732b4b8",
   "metadata": {},
   "outputs": [],
   "source": [
    "# GCS 파일 시스템 객체 생성\n",
    "fs = gcsfs.GCSFileSystem()\n",
    "\n",
    "# GCS 버킷 내 모든 parquet 파일 경로 가져오기\n",
    "parquet_paths = fs.glob(\"sprintda05_final_project/**/*.parquet\")\n",
    "\n",
    "# 파일명 기반으로 DataFrame 딕셔너리 만들기\n",
    "dataframes = {}\n",
    "\n",
    "for path in parquet_paths:\n",
    "    df = pd.read_parquet(f\"gs://{path}\", engine=\"pyarrow\")\n",
    "    if 'id' in df.columns:\n",
    "        df = df.drop(columns='id')\n",
    "    \n",
    "    # 파일명(확장자 포함)을 key로 사용\n",
    "    filename = path.split(\"/\")[-1]\n",
    "    dataframes[filename] = df"
   ]
  },
  {
   "cell_type": "code",
   "execution_count": 8,
   "id": "acbea91f",
   "metadata": {},
   "outputs": [
    {
     "name": "stdout",
     "output_type": "stream",
     "text": [
      "[0] device_properties.parquet: (252380, 3)\n",
      "device_id\t0\n",
      "device_model\t0\n",
      "device_vendor\t0\n",
      "\n",
      "[1] hackle_events.parquet: (11441319, 10)\n",
      "event_id\t0\n",
      "event_datetime\t0\n",
      "event_key\t0\n",
      "session_id\t0\n",
      "item_name\t0\n",
      "page_name\t0\n",
      "friend_count\t0\n",
      "votes_count\t0\n",
      "heart_balance\t0\n",
      "question_id\t0\n",
      "\n",
      "[2] hackle_properties.parquet: (525350, 7)\n",
      "session_id\t0\n",
      "user_id\t0\n",
      "language\t0\n",
      "osname\t0\n",
      "osversion\t0\n",
      "versionname\t0\n",
      "device_id\t0\n",
      "\n",
      "[3] user_properties.parquet: (230819, 5)\n",
      "user_id\t0\n",
      "class\t0\n",
      "gender\t0\n",
      "grade\t0\n",
      "school_id\t0\n",
      "\n",
      "[4] accounts_attendance.parquet: (349637, 2)\n",
      "attendance_date_list\t20945\n",
      "user_id\t0\n",
      "\n",
      "[5] accounts_blockrecord.parquet: (19482, 4)\n",
      "reason\t0\n",
      "created_at\t0\n",
      "block_user_id\t0\n",
      "user_id\t0\n",
      "\n",
      "[6] accounts_failpaymenthistory.parquet: (163, 4)\n",
      "productId\t0\n",
      "phone_type\t0\n",
      "created_at\t0\n",
      "user_id\t0\n",
      "\n",
      "[7] accounts_friendrequest.parquet: (17147175, 5)\n",
      "status\t0\n",
      "created_at\t0\n",
      "updated_at\t0\n",
      "receive_user_id\t0\n",
      "send_user_id\t0\n",
      "\n",
      "[8] accounts_group.parquet: (84515, 3)\n",
      "grade\t0\n",
      "class_num\t0\n",
      "school_id\t0\n",
      "\n",
      "[9] accounts_nearbyschool.parquet: (59500, 3)\n",
      "distance\t0\n",
      "nearby_school_id\t0\n",
      "school_id\t0\n",
      "\n",
      "[10] accounts_paymenthistory.parquet: (95140, 4)\n",
      "productId\t0\n",
      "phone_type\t0\n",
      "created_at\t0\n",
      "user_id\t0\n",
      "\n",
      "[11] accounts_pointhistory.parquet: (2338918, 4)\n",
      "delta_point\t0\n",
      "created_at\t0\n",
      "user_id\t0\n",
      "user_question_record_id\t0\n",
      "\n",
      "[12] accounts_school.parquet: (5951, 3)\n",
      "address\t0\n",
      "student_count\t0\n",
      "school_type\t0\n",
      "\n",
      "[13] accounts_timelinereport.parquet: (208, 5)\n",
      "reason\t0\n",
      "created_at\t0\n",
      "reported_user_id\t0\n",
      "user_id\t0\n",
      "user_question_record_id\t0\n",
      "\n",
      "[14] accounts_user.parquet: (677085, 15)\n",
      "is_superuser\t0\n",
      "is_staff\t0\n",
      "gender\t0\n",
      "point\t0\n",
      "friend_id_list\t2874\n",
      "is_push_on\t0\n",
      "created_at\t0\n",
      "block_user_id_list\t664042\n",
      "hide_user_id_list\t598352\n",
      "ban_status\t0\n",
      "report_count\t0\n",
      "alarm_count\t0\n",
      "pending_chat\t0\n",
      "pending_votes\t0\n",
      "group_id\t0\n",
      "\n",
      "[15] accounts_user_contacts.parquet: (5063, 3)\n",
      "contacts_count\t0\n",
      "invite_user_id_list\t3905\n",
      "user_id\t0\n",
      "\n",
      "[16] accounts_userquestionrecord.parquet: (1217558, 11)\n",
      "status\t0\n",
      "created_at\t0\n",
      "chosen_user_id\t0\n",
      "question_id\t0\n",
      "user_id\t0\n",
      "question_piece_id\t0\n",
      "has_read\t0\n",
      "answer_status\t0\n",
      "answer_updated_at\t0\n",
      "report_count\t0\n",
      "opened_times\t0\n",
      "\n",
      "[17] accounts_userwithdraw.parquet: (70764, 2)\n",
      "reason\t0\n",
      "created_at\t0\n",
      "\n",
      "[18] event_receipts.parquet: (309, 4)\n",
      "created_at\t0\n",
      "event_id\t0\n",
      "user_id\t0\n",
      "plus_point\t0\n",
      "\n",
      "[19] events.parquet: (3, 5)\n",
      "title\t0\n",
      "plus_point\t0\n",
      "event_type\t0\n",
      "is_expired\t0\n",
      "created_at\t0\n",
      "\n",
      "[20] polls_question.parquet: (5025, 2)\n",
      "question_text\t0\n",
      "created_at\t0\n",
      "\n",
      "[21] polls_questionpiece.parquet: (1265476, 4)\n",
      "is_voted\t0\n",
      "created_at\t0\n",
      "question_id\t0\n",
      "is_skipped\t0\n",
      "\n",
      "[22] polls_questionreport.parquet: (51424, 4)\n",
      "reason\t0\n",
      "created_at\t0\n",
      "question_id\t0\n",
      "user_id\t0\n",
      "\n",
      "[23] polls_questionset.parquet: (158384, 5)\n",
      "question_piece_id_list\t0\n",
      "opening_time\t0\n",
      "status\t0\n",
      "created_at\t0\n",
      "user_id\t0\n",
      "\n",
      "[24] polls_usercandidate.parquet: (4769609, 3)\n",
      "created_at\t0\n",
      "question_piece_id\t0\n",
      "user_id\t0\n",
      "\n"
     ]
    }
   ],
   "source": [
    "# enumerate로 사용하기\n",
    "for idx, (filename, df) in enumerate(dataframes.items()):\n",
    "    print(f\"[{idx}] {filename}: {df.shape}\")\n",
    "    # 원하는 작업 수행\n",
    "    # print(df.replace('[]', np.nan).isna().sum())\n",
    "    for col in df.columns:\n",
    "        count = (df[col] == '[]').sum()\n",
    "        print(f\"{col}\\t{count}\")\n",
    "    print()"
   ]
  },
  {
   "cell_type": "markdown",
   "id": "0f696903",
   "metadata": {},
   "source": [
    "## 전처리"
   ]
  },
  {
   "cell_type": "markdown",
   "id": "ac3097ca",
   "metadata": {},
   "source": [
    "### accounts_user"
   ]
  },
  {
   "cell_type": "code",
   "execution_count": 15,
   "id": "65f90e1c",
   "metadata": {},
   "outputs": [],
   "source": [
    "import pandas as pd\n",
    "import ast\n",
    "from google.cloud import storage"
   ]
  },
  {
   "cell_type": "code",
   "execution_count": 10,
   "id": "ace7bc1a",
   "metadata": {},
   "outputs": [],
   "source": [
    "gcs_parquet_path = \"gs://sprintda05_final_project/votes/accounts_user.parquet\"\n",
    "df = pd.read_parquet(gcs_parquet_path, engine='pyarrow')"
   ]
  },
  {
   "cell_type": "code",
   "execution_count": 11,
   "id": "a0e75138",
   "metadata": {},
   "outputs": [
    {
     "data": {
      "text/plain": [
       "(677085, 16)"
      ]
     },
     "execution_count": 11,
     "metadata": {},
     "output_type": "execute_result"
    }
   ],
   "source": [
    "df.shape"
   ]
  },
  {
   "cell_type": "code",
   "execution_count": null,
   "id": "cc3f6b7f",
   "metadata": {},
   "outputs": [],
   "source": [
    "# accounts_user['point'] IQR*3 이상치 처리\n",
    "point_iqr = df['point'].quantile(.75) - df['point'].quantile(.25)\n",
    "point_upper_bound = df['point'].quantile(.75) + 3 * point_iqr\n",
    "df = df[df['point']<=point_upper_bound]"
   ]
  },
  {
   "cell_type": "code",
   "execution_count": 13,
   "id": "6921ad40",
   "metadata": {},
   "outputs": [
    {
     "data": {
      "text/plain": [
       "(663207, 16)"
      ]
     },
     "execution_count": 13,
     "metadata": {},
     "output_type": "execute_result"
    }
   ],
   "source": [
    "df.shape"
   ]
  },
  {
   "cell_type": "code",
   "execution_count": 17,
   "id": "e9e1f28c",
   "metadata": {},
   "outputs": [],
   "source": [
    "# len(accounts_user['friend_id_list']) 상위 1% 이상치 처리\n",
    "df['friend_cnt'] = len(df['friend_id_list'].apply(lambda x: ast.literal_eval(x) if isinstance(x, str) else x))\n",
    "friend_upper_bound = df['friend_cnt'].quantile(.99)\n",
    "df = df[df['friend_cnt']<=friend_upper_bound]"
   ]
  },
  {
   "cell_type": "code",
   "execution_count": 18,
   "id": "0c33ec41",
   "metadata": {},
   "outputs": [
    {
     "data": {
      "text/plain": [
       "(663207, 17)"
      ]
     },
     "execution_count": 18,
     "metadata": {},
     "output_type": "execute_result"
    }
   ],
   "source": [
    "df.shape"
   ]
  },
  {
   "cell_type": "markdown",
   "id": "f539537e",
   "metadata": {},
   "source": [
    "## 주제 선정 EDA"
   ]
  },
  {
   "cell_type": "code",
   "execution_count": 19,
   "id": "319c8a4d",
   "metadata": {},
   "outputs": [],
   "source": [
    "gcs_parquet_path = \"gs://sprintda05_final_project/votes/polls_questionpiece.parquet\"\n",
    "polls_questionpiece = pd.read_parquet(gcs_parquet_path, engine='pyarrow').drop(columns='id')"
   ]
  },
  {
   "cell_type": "code",
   "execution_count": 26,
   "id": "145fefea",
   "metadata": {},
   "outputs": [],
   "source": [
    "is_voted = polls_questionpiece['is_voted'].value_counts().reset_index()"
   ]
  },
  {
   "cell_type": "code",
   "execution_count": 39,
   "id": "0266b52a",
   "metadata": {},
   "outputs": [
    {
     "data": {
      "image/png": "[encoded data removed]",
      "text/plain": [
       "<Figure size 640x480 with 1 Axes>"
      ]
     },
     "metadata": {},
     "output_type": "display_data"
    }
   ],
   "source": [
    "# polls_questionpiece -> is_voted 비율\n",
    "fig, ax = plt.subplots()\n",
    "# fig.patch.set_facecolor('none')\n",
    "ax.pie(is_voted['count'], labels=is_voted['is_voted'], autopct='%1.1f%%',)\n",
    "ax.legend()\n",
    "plt.title('is_voted ratio')\n",
    "plt.show()"
   ]
  },
  {
   "cell_type": "code",
   "execution_count": null,
   "id": "fb3b57ee",
   "metadata": {},
   "outputs": [],
   "source": [
    "is_skipped = polls_questionpiece['is_skipped'].value_counts().reset_index()"
   ]
  },
  {
   "cell_type": "code",
   "execution_count": 40,
   "id": "224b69d4",
   "metadata": {},
   "outputs": [
    {
     "data": {
      "image/png": "[encoded data removed]",
      "text/plain": [
       "<Figure size 640x480 with 1 Axes>"
      ]
     },
     "metadata": {},
     "output_type": "display_data"
    }
   ],
   "source": [
    "# polls_questionpiece -> is_skipped 비율\n",
    "fig, ax = plt.subplots()\n",
    "# fig.patch.set_facecolor('none')\n",
    "ax.pie(is_skipped['count'], labels=is_skipped['is_skipped'], autopct='%1.1f%%',)\n",
    "ax.legend()\n",
    "plt.title('is_skipped ratio')\n",
    "plt.show()"
   ]
  },
  {
   "cell_type": "code",
   "execution_count": null,
   "id": "9fee6998",
   "metadata": {},
   "outputs": [],
   "source": [
    "gcs_parquet_path = \"gs://sprintda05_final_project/votes/polls_questionset.parquet\"\n",
    "polls_questionset = pd.read_parquet(gcs_parquet_path, engine='pyarrow').drop(columns='id')"
   ]
  },
  {
   "cell_type": "code",
   "execution_count": 37,
   "id": "7b6c9211",
   "metadata": {},
   "outputs": [
    {
     "data": {
      "text/html": [
       "<div>\n",
       "<style scoped>\n",
       "    .dataframe tbody tr th:only-of-type {\n",
       "        vertical-align: middle;\n",
       "    }\n",
       "\n",
       "    .dataframe tbody tr th {\n",
       "        vertical-align: top;\n",
       "    }\n",
       "\n",
       "    .dataframe thead th {\n",
       "        text-align: right;\n",
       "    }\n",
       "</style>\n",
       "<table border=\"1\" class=\"dataframe\">\n",
       "  <thead>\n",
       "    <tr style=\"text-align: right;\">\n",
       "      <th></th>\n",
       "      <th>status</th>\n",
       "      <th>count</th>\n",
       "    </tr>\n",
       "  </thead>\n",
       "  <tbody>\n",
       "    <tr>\n",
       "      <th>0</th>\n",
       "      <td>F</td>\n",
       "      <td>153411</td>\n",
       "    </tr>\n",
       "    <tr>\n",
       "      <th>1</th>\n",
       "      <td>O</td>\n",
       "      <td>4407</td>\n",
       "    </tr>\n",
       "    <tr>\n",
       "      <th>2</th>\n",
       "      <td>C</td>\n",
       "      <td>566</td>\n",
       "    </tr>\n",
       "  </tbody>\n",
       "</table>\n",
       "</div>"
      ],
      "text/plain": [
       "  status   count\n",
       "0      F  153411\n",
       "1      O    4407\n",
       "2      C     566"
      ]
     },
     "execution_count": 37,
     "metadata": {},
     "output_type": "execute_result"
    }
   ],
   "source": [
    "poll_status = polls_questionset['status'].value_counts().reset_index()\n",
    "poll_status"
   ]
  },
  {
   "cell_type": "code",
   "execution_count": 42,
   "id": "15f59d9d",
   "metadata": {},
   "outputs": [
    {
     "data": {
      "image/png": "[encoded data removed]",
      "text/plain": [
       "<Figure size 640x480 with 1 Axes>"
      ]
     },
     "metadata": {},
     "output_type": "display_data"
    }
   ],
   "source": [
    "fig, ax = plt.subplots()\n",
    "# fig.patch.set_facecolor('none')\n",
    "ax.pie(poll_status['count'], labels=poll_status['status'], autopct='%1.1f%%',)\n",
    "ax.legend()\n",
    "plt.title('status ratio')\n",
    "plt.show()"
   ]
  },
  {
   "cell_type": "code",
   "execution_count": 44,
   "id": "6970f3ca",
   "metadata": {},
   "outputs": [],
   "source": [
    "gcs_parquet_path = \"gs://sprintda05_final_project/votes/polls_questionset.parquet\"\n",
    "polls_questionset = pd.read_parquet(gcs_parquet_path, engine='pyarrow').drop(columns='id')"
   ]
  },
  {
   "cell_type": "code",
   "execution_count": null,
   "id": "2d8fdf9c",
   "metadata": {},
   "outputs": [
    {
     "data": {
      "text/html": [
       "<div>\n",
       "<style scoped>\n",
       "    .dataframe tbody tr th:only-of-type {\n",
       "        vertical-align: middle;\n",
       "    }\n",
       "\n",
       "    .dataframe tbody tr th {\n",
       "        vertical-align: top;\n",
       "    }\n",
       "\n",
       "    .dataframe thead th {\n",
       "        text-align: right;\n",
       "    }\n",
       "</style>\n",
       "<table border=\"1\" class=\"dataframe\">\n",
       "  <thead>\n",
       "    <tr style=\"text-align: right;\">\n",
       "      <th></th>\n",
       "      <th>question_piece_id_list</th>\n",
       "      <th>opening_time</th>\n",
       "      <th>status</th>\n",
       "      <th>created_at</th>\n",
       "      <th>user_id</th>\n",
       "    </tr>\n",
       "  </thead>\n",
       "  <tbody>\n",
       "    <tr>\n",
       "      <th>0</th>\n",
       "      <td>[998458, 998459, 998460, 998461, 998462, 99846...</td>\n",
       "      <td>2023-04-28 12:27:22</td>\n",
       "      <td>F</td>\n",
       "      <td>2023-04-28 12:27:23</td>\n",
       "      <td>849436</td>\n",
       "    </tr>\n",
       "    <tr>\n",
       "      <th>1</th>\n",
       "      <td>[998588, 998589, 998590, 998591, 998592, 99859...</td>\n",
       "      <td>2023-04-28 12:28:07</td>\n",
       "      <td>F</td>\n",
       "      <td>2023-04-28 12:28:07</td>\n",
       "      <td>849438</td>\n",
       "    </tr>\n",
       "    <tr>\n",
       "      <th>2</th>\n",
       "      <td>[998689, 998691, 998693, 998695, 998697, 99869...</td>\n",
       "      <td>2023-04-28 12:28:38</td>\n",
       "      <td>F</td>\n",
       "      <td>2023-04-28 12:28:38</td>\n",
       "      <td>847375</td>\n",
       "    </tr>\n",
       "    <tr>\n",
       "      <th>3</th>\n",
       "      <td>[998688, 998690, 998692, 998694, 998696, 99869...</td>\n",
       "      <td>2023-04-28 12:28:38</td>\n",
       "      <td>F</td>\n",
       "      <td>2023-04-28 12:28:38</td>\n",
       "      <td>849446</td>\n",
       "    </tr>\n",
       "    <tr>\n",
       "      <th>4</th>\n",
       "      <td>[998768, 998769, 998770, 998771, 998772, 99877...</td>\n",
       "      <td>2023-04-28 12:28:57</td>\n",
       "      <td>F</td>\n",
       "      <td>2023-04-28 12:28:57</td>\n",
       "      <td>849477</td>\n",
       "    </tr>\n",
       "    <tr>\n",
       "      <th>...</th>\n",
       "      <td>...</td>\n",
       "      <td>...</td>\n",
       "      <td>...</td>\n",
       "      <td>...</td>\n",
       "      <td>...</td>\n",
       "    </tr>\n",
       "    <tr>\n",
       "      <th>158379</th>\n",
       "      <td>[208383291, 208383292, 208383293, 208383294, 2...</td>\n",
       "      <td>2024-05-05 14:46:27</td>\n",
       "      <td>C</td>\n",
       "      <td>2024-05-05 14:06:27</td>\n",
       "      <td>1251933</td>\n",
       "    </tr>\n",
       "    <tr>\n",
       "      <th>158380</th>\n",
       "      <td>[208384201, 208384202, 208384203, 208384204, 2...</td>\n",
       "      <td>2024-05-06 11:38:20</td>\n",
       "      <td>C</td>\n",
       "      <td>2024-05-06 10:58:20</td>\n",
       "      <td>876072</td>\n",
       "    </tr>\n",
       "    <tr>\n",
       "      <th>158381</th>\n",
       "      <td>[208384951, 208384952, 208384953, 208384954, 2...</td>\n",
       "      <td>2024-05-07 00:55:00</td>\n",
       "      <td>C</td>\n",
       "      <td>2024-05-07 00:15:00</td>\n",
       "      <td>1208878</td>\n",
       "    </tr>\n",
       "    <tr>\n",
       "      <th>158382</th>\n",
       "      <td>[208385211, 208385212, 208385213, 208385214, 2...</td>\n",
       "      <td>2024-05-07 12:09:08</td>\n",
       "      <td>C</td>\n",
       "      <td>2024-05-07 11:29:08</td>\n",
       "      <td>1001607</td>\n",
       "    </tr>\n",
       "    <tr>\n",
       "      <th>158383</th>\n",
       "      <td>[208385221, 208385222, 208385223, 208385224, 2...</td>\n",
       "      <td>2024-05-07 12:12:30</td>\n",
       "      <td>C</td>\n",
       "      <td>2024-05-07 11:32:30</td>\n",
       "      <td>945560</td>\n",
       "    </tr>\n",
       "  </tbody>\n",
       "</table>\n",
       "<p>158384 rows × 5 columns</p>\n",
       "</div>"
      ],
      "text/plain": [
       "                                   question_piece_id_list        opening_time  \\\n",
       "0       [998458, 998459, 998460, 998461, 998462, 99846... 2023-04-28 12:27:22   \n",
       "1       [998588, 998589, 998590, 998591, 998592, 99859... 2023-04-28 12:28:07   \n",
       "2       [998689, 998691, 998693, 998695, 998697, 99869... 2023-04-28 12:28:38   \n",
       "3       [998688, 998690, 998692, 998694, 998696, 99869... 2023-04-28 12:28:38   \n",
       "4       [998768, 998769, 998770, 998771, 998772, 99877... 2023-04-28 12:28:57   \n",
       "...                                                   ...                 ...   \n",
       "158379  [208383291, 208383292, 208383293, 208383294, 2... 2024-05-05 14:46:27   \n",
       "158380  [208384201, 208384202, 208384203, 208384204, 2... 2024-05-06 11:38:20   \n",
       "158381  [208384951, 208384952, 208384953, 208384954, 2... 2024-05-07 00:55:00   \n",
       "158382  [208385211, 208385212, 208385213, 208385214, 2... 2024-05-07 12:09:08   \n",
       "158383  [208385221, 208385222, 208385223, 208385224, 2... 2024-05-07 12:12:30   \n",
       "\n",
       "       status          created_at  user_id  \n",
       "0           F 2023-04-28 12:27:23   849436  \n",
       "1           F 2023-04-28 12:28:07   849438  \n",
       "2           F 2023-04-28 12:28:38   847375  \n",
       "3           F 2023-04-28 12:28:38   849446  \n",
       "4           F 2023-04-28 12:28:57   849477  \n",
       "...       ...                 ...      ...  \n",
       "158379      C 2024-05-05 14:06:27  1251933  \n",
       "158380      C 2024-05-06 10:58:20   876072  \n",
       "158381      C 2024-05-07 00:15:00  1208878  \n",
       "158382      C 2024-05-07 11:29:08  1001607  \n",
       "158383      C 2024-05-07 11:32:30   945560  \n",
       "\n",
       "[158384 rows x 5 columns]"
      ]
     },
     "execution_count": 45,
     "metadata": {},
     "output_type": "execute_result"
    }
   ],
   "source": [
    "polls_questionset['created_at']"
   ]
  },
  {
   "cell_type": "code",
   "execution_count": 47,
   "id": "81128a69",
   "metadata": {},
   "outputs": [],
   "source": [
    "created_at = polls_questionset['created_at'].value_counts().reset_index()"
   ]
  },
  {
   "cell_type": "code",
   "execution_count": 54,
   "id": "b868248d",
   "metadata": {},
   "outputs": [
    {
     "data": {
      "image/png": "[encoded data removed]",
      "text/plain": [
       "<Figure size 640x480 with 1 Axes>"
      ]
     },
     "metadata": {},
     "output_type": "display_data"
    }
   ],
   "source": [
    "fig, ax = plt.subplots()\n",
    "# fig.patch.set_facecolor('none')\n",
    "ax.hist(polls_questionset['created_at'], bins=30)\n",
    "plt.title('status ratio')\n",
    "plt.show()"
   ]
  },
  {
   "cell_type": "code",
   "execution_count": null,
   "id": "33a38e7e",
   "metadata": {},
   "outputs": [],
   "source": []
  },
  {
   "cell_type": "code",
   "execution_count": 55,
   "id": "3fc352e4",
   "metadata": {},
   "outputs": [
    {
     "data": {
      "text/plain": [
       "0        2023-04-28 12:27:23\n",
       "1        2023-04-28 12:28:07\n",
       "2        2023-04-28 12:28:38\n",
       "3        2023-04-28 12:28:38\n",
       "4        2023-04-28 12:28:57\n",
       "                 ...        \n",
       "158379   2024-05-05 14:06:27\n",
       "158380   2024-05-06 10:58:20\n",
       "158381   2024-05-07 00:15:00\n",
       "158382   2024-05-07 11:29:08\n",
       "158383   2024-05-07 11:32:30\n",
       "Name: created_at, Length: 158384, dtype: datetime64[ns]"
      ]
     },
     "execution_count": 55,
     "metadata": {},
     "output_type": "execute_result"
    }
   ],
   "source": [
    "polls_questionset['created_at']"
   ]
  },
  {
   "cell_type": "code",
   "execution_count": null,
   "id": "4c120774",
   "metadata": {},
   "outputs": [],
   "source": []
  }
 ],
 "metadata": {
  "kernelspec": {
   "display_name": "Python 3 (ipykernel)",
   "language": "python",
   "name": "python3"
  }
 },
 "nbformat": 4,
 "nbformat_minor": 5
}
