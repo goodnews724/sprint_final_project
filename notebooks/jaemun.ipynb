{
 "cells": [
  {
   "cell_type": "code",
   "execution_count": 3,
   "id": "558ef335",
   "metadata": {},
   "outputs": [],
   "source": [
    "import os\n",
    "import io\n",
    "import pandas as pd\n",
    "from google.cloud import storage\n",
    "import ast"
   ]
  },
  {
   "cell_type": "markdown",
   "id": "fb7e8d85",
   "metadata": {},
   "source": [
    "##### accounts_attendance"
   ]
  },
  {
   "cell_type": "code",
   "execution_count": 8,
   "id": "87e05c56",
   "metadata": {},
   "outputs": [],
   "source": [
    "accounts_attendance = pd.read_parquet('gs://sprintda05_final_project/votes/accounts_attendance.parquet', engine='pyarrow')"
   ]
  },
  {
   "cell_type": "code",
   "execution_count": 5,
   "id": "0aa6f2de",
   "metadata": {},
   "outputs": [
    {
     "data": {
      "text/html": [
       "<div>\n",
       "<style scoped>\n",
       "    .dataframe tbody tr th:only-of-type {\n",
       "        vertical-align: middle;\n",
       "    }\n",
       "\n",
       "    .dataframe tbody tr th {\n",
       "        vertical-align: top;\n",
       "    }\n",
       "\n",
       "    .dataframe thead th {\n",
       "        text-align: right;\n",
       "    }\n",
       "</style>\n",
       "<table border=\"1\" class=\"dataframe\">\n",
       "  <thead>\n",
       "    <tr style=\"text-align: right;\">\n",
       "      <th></th>\n",
       "      <th>id</th>\n",
       "      <th>attendance_date_list</th>\n",
       "      <th>user_id</th>\n",
       "    </tr>\n",
       "  </thead>\n",
       "  <tbody>\n",
       "    <tr>\n",
       "      <th>0</th>\n",
       "      <td>1</td>\n",
       "      <td>[\"2023-05-27\", \"2023-05-28\", \"2023-05-29\", \"20...</td>\n",
       "      <td>1446852</td>\n",
       "    </tr>\n",
       "    <tr>\n",
       "      <th>1</th>\n",
       "      <td>2</td>\n",
       "      <td>[\"2023-05-27\", \"2023-05-29\", \"2023-05-30\", \"20...</td>\n",
       "      <td>1359398</td>\n",
       "    </tr>\n",
       "    <tr>\n",
       "      <th>2</th>\n",
       "      <td>3</td>\n",
       "      <td>[\"2023-05-27\", \"2023-05-29\", \"2023-05-30\", \"20...</td>\n",
       "      <td>1501542</td>\n",
       "    </tr>\n",
       "    <tr>\n",
       "      <th>3</th>\n",
       "      <td>4</td>\n",
       "      <td>[\"2023-05-27\", \"2023-05-28\", \"2023-05-29\", \"20...</td>\n",
       "      <td>1507767</td>\n",
       "    </tr>\n",
       "    <tr>\n",
       "      <th>4</th>\n",
       "      <td>5</td>\n",
       "      <td>[\"2023-05-27\", \"2023-05-28\", \"2023-05-29\", \"20...</td>\n",
       "      <td>1287453</td>\n",
       "    </tr>\n",
       "    <tr>\n",
       "      <th>...</th>\n",
       "      <td>...</td>\n",
       "      <td>...</td>\n",
       "      <td>...</td>\n",
       "    </tr>\n",
       "    <tr>\n",
       "      <th>349632</th>\n",
       "      <td>360501</td>\n",
       "      <td>[]</td>\n",
       "      <td>897005</td>\n",
       "    </tr>\n",
       "    <tr>\n",
       "      <th>349633</th>\n",
       "      <td>360502</td>\n",
       "      <td>[\"2024-05-09\"]</td>\n",
       "      <td>1407059</td>\n",
       "    </tr>\n",
       "    <tr>\n",
       "      <th>349634</th>\n",
       "      <td>360503</td>\n",
       "      <td>[\"2024-05-09\"]</td>\n",
       "      <td>1583727</td>\n",
       "    </tr>\n",
       "    <tr>\n",
       "      <th>349635</th>\n",
       "      <td>360504</td>\n",
       "      <td>[\"2024-05-09\"]</td>\n",
       "      <td>1392372</td>\n",
       "    </tr>\n",
       "    <tr>\n",
       "      <th>349636</th>\n",
       "      <td>360505</td>\n",
       "      <td>[\"2024-05-09\"]</td>\n",
       "      <td>1583730</td>\n",
       "    </tr>\n",
       "  </tbody>\n",
       "</table>\n",
       "<p>349637 rows × 3 columns</p>\n",
       "</div>"
      ],
      "text/plain": [
       "            id                               attendance_date_list  user_id\n",
       "0            1  [\"2023-05-27\", \"2023-05-28\", \"2023-05-29\", \"20...  1446852\n",
       "1            2  [\"2023-05-27\", \"2023-05-29\", \"2023-05-30\", \"20...  1359398\n",
       "2            3  [\"2023-05-27\", \"2023-05-29\", \"2023-05-30\", \"20...  1501542\n",
       "3            4  [\"2023-05-27\", \"2023-05-28\", \"2023-05-29\", \"20...  1507767\n",
       "4            5  [\"2023-05-27\", \"2023-05-28\", \"2023-05-29\", \"20...  1287453\n",
       "...        ...                                                ...      ...\n",
       "349632  360501                                                 []   897005\n",
       "349633  360502                                     [\"2024-05-09\"]  1407059\n",
       "349634  360503                                     [\"2024-05-09\"]  1583727\n",
       "349635  360504                                     [\"2024-05-09\"]  1392372\n",
       "349636  360505                                     [\"2024-05-09\"]  1583730\n",
       "\n",
       "[349637 rows x 3 columns]"
      ]
     },
     "execution_count": 5,
     "metadata": {},
     "output_type": "execute_result"
    }
   ],
   "source": [
    "accounts_attendance"
   ]
  },
  {
   "cell_type": "code",
   "execution_count": 9,
   "id": "0a3f1649",
   "metadata": {},
   "outputs": [],
   "source": [
    "accounts_attendance['attendance_date_list'] = accounts_attendance['attendance_date_list'].apply(lambda x: ast.literal_eval(x) if isinstance(x, str) else x)"
   ]
  },
  {
   "cell_type": "code",
   "execution_count": 11,
   "id": "92ccd070",
   "metadata": {},
   "outputs": [
    {
     "data": {
      "text/plain": [
       "0"
      ]
     },
     "execution_count": 11,
     "metadata": {},
     "output_type": "execute_result"
    }
   ],
   "source": [
    "accounts_attendance.explode('attendance_date_list').duplicated(subset=['attendance_date_list','user_id']).sum()"
   ]
  },
  {
   "cell_type": "markdown",
   "id": "432a9ab8",
   "metadata": {},
   "source": [
    "##### accounts_blockrecord"
   ]
  },
  {
   "cell_type": "code",
   "execution_count": null,
   "id": "edb51a97",
   "metadata": {},
   "outputs": [],
   "source": [
    "accounts_blockrecord = pd.read_parquet('gs://sprintda05_final_project/votes/accounts_blockrecord.parquet', engine='pyarrow')"
   ]
  },
  {
   "cell_type": "markdown",
   "id": "4115877d",
   "metadata": {},
   "source": [
    "##### accounts_failpaymenthistory"
   ]
  },
  {
   "cell_type": "code",
   "execution_count": null,
   "id": "4ae5bbce",
   "metadata": {},
   "outputs": [],
   "source": [
    "accounts_failpaymenthistory = pd.read_parquet('gs://sprintda05_final_project/votes/accounts_failpaymenthistory.parquet', engine='pyarrow')"
   ]
  },
  {
   "cell_type": "markdown",
   "id": "a6a2e246",
   "metadata": {},
   "source": [
    "##### accounts_friendrequest"
   ]
  },
  {
   "cell_type": "code",
   "execution_count": null,
   "id": "e339559c",
   "metadata": {},
   "outputs": [],
   "source": [
    "accounts_friendrequest = pd.read_parquet('gs://sprintda05_final_project/votes/accounts_friendrequest.parquet', engine='pyarrow')"
   ]
  },
  {
   "cell_type": "markdown",
   "id": "ff923b86",
   "metadata": {},
   "source": [
    "##### accounts_group"
   ]
  },
  {
   "cell_type": "code",
   "execution_count": null,
   "id": "a9af934c",
   "metadata": {},
   "outputs": [],
   "source": [
    "accounts_group = pd.read_parquet('gs://sprintda05_final_project/votes/accounts_group.parquet', engine='pyarrow')"
   ]
  },
  {
   "cell_type": "markdown",
   "id": "9a84a991",
   "metadata": {},
   "source": [
    "##### accounts_nearbyschool"
   ]
  },
  {
   "cell_type": "code",
   "execution_count": null,
   "id": "8c9cd5dc",
   "metadata": {},
   "outputs": [],
   "source": [
    "accounts_nearbyschool = pd.read_parquet('gs://sprintda05_final_project/votes/accounts_nearbyschool.parquet', engine='pyarrow')"
   ]
  },
  {
   "cell_type": "markdown",
   "id": "c5492d01",
   "metadata": {},
   "source": [
    "##### accounts_paymenthistory"
   ]
  },
  {
   "cell_type": "code",
   "execution_count": null,
   "id": "9c5427ba",
   "metadata": {},
   "outputs": [],
   "source": [
    "accounts_paymenthistory = pd.read_parquet('gs://sprintda05_final_project/votes/accounts_paymenthistory.parquet', engine='pyarrow')"
   ]
  },
  {
   "cell_type": "markdown",
   "id": "929e9bc4",
   "metadata": {},
   "source": [
    "##### accounts_user_contacts"
   ]
  },
  {
   "cell_type": "code",
   "execution_count": null,
   "id": "58c31ceb",
   "metadata": {},
   "outputs": [],
   "source": [
    "accounts_user_contacts = pd.read_parquet('gs://sprintda05_final_project/votes/accounts_user_contacts.parquet', engine='pyarrow')"
   ]
  },
  {
   "cell_type": "markdown",
   "id": "25e756b4",
   "metadata": {},
   "source": [
    "##### accounts_pointhistory"
   ]
  },
  {
   "cell_type": "code",
   "execution_count": null,
   "id": "a6c18a82",
   "metadata": {},
   "outputs": [],
   "source": [
    "accounts_pointhistory = pd.read_parquet('gs://sprintda05_final_project/votes/accounts_pointhistory.parquet', engine='pyarrow')"
   ]
  },
  {
   "cell_type": "markdown",
   "id": "98809488",
   "metadata": {},
   "source": [
    "##### accounts_school"
   ]
  },
  {
   "cell_type": "code",
   "execution_count": null,
   "id": "27520758",
   "metadata": {},
   "outputs": [],
   "source": [
    "accounts_school = pd.read_parquet('gs://sprintda05_final_project/votes/accounts_school.parquet', engine='pyarrow')"
   ]
  },
  {
   "cell_type": "markdown",
   "id": "e90f0712",
   "metadata": {},
   "source": [
    "##### accounts_timelinereport"
   ]
  },
  {
   "cell_type": "code",
   "execution_count": null,
   "id": "84d725a3",
   "metadata": {},
   "outputs": [],
   "source": [
    "accounts_timelinereport = pd.read_parquet('gs://sprintda05_final_project/votes/accounts_timelinereport.parquet', engine='pyarrow')"
   ]
  },
  {
   "cell_type": "markdown",
   "id": "3102fdc7",
   "metadata": {},
   "source": [
    "##### accounts_user"
   ]
  },
  {
   "cell_type": "code",
   "execution_count": null,
   "id": "76764d42",
   "metadata": {},
   "outputs": [],
   "source": [
    "accounts_user = pd.read_parquet('gs://sprintda05_final_project/votes/accounts_user.parquet', engine='pyarrow')"
   ]
  },
  {
   "cell_type": "markdown",
   "id": "6d45c857",
   "metadata": {},
   "source": [
    "##### accounts_userquestionrecord"
   ]
  },
  {
   "cell_type": "code",
   "execution_count": null,
   "id": "9969271a",
   "metadata": {},
   "outputs": [],
   "source": [
    "accounts_userquestionrecord = pd.read_parquet('gs://sprintda05_final_project/votes/accounts_userquestionrecord.parquet', engine='pyarrow')"
   ]
  },
  {
   "cell_type": "markdown",
   "id": "a0c6459b",
   "metadata": {},
   "source": [
    "##### accounts_userwithdraw"
   ]
  },
  {
   "cell_type": "code",
   "execution_count": null,
   "id": "78d6d3cd",
   "metadata": {},
   "outputs": [],
   "source": [
    "accounts_userwithdraw = pd.read_parquet('gs://sprintda05_final_project/votes/accounts_userwithdraw.parquet', engine='pyarrow')"
   ]
  },
  {
   "cell_type": "markdown",
   "id": "125ffbb2",
   "metadata": {},
   "source": [
    "##### event_receipts"
   ]
  },
  {
   "cell_type": "code",
   "execution_count": null,
   "id": "47d08f0f",
   "metadata": {},
   "outputs": [],
   "source": [
    "event_receipts = pd.read_parquet('gs://sprintda05_final_project/votes/event_receipts.parquet', engine='pyarrow')"
   ]
  },
  {
   "cell_type": "markdown",
   "id": "0cf708b0",
   "metadata": {},
   "source": [
    "##### events"
   ]
  },
  {
   "cell_type": "code",
   "execution_count": null,
   "id": "f9bd3c35",
   "metadata": {},
   "outputs": [],
   "source": [
    "events = pd.read_parquet('gs://sprintda05_final_project/votes/events.parquet', engine='pyarrow')"
   ]
  },
  {
   "cell_type": "markdown",
   "id": "87ba5db4",
   "metadata": {},
   "source": [
    "##### polls_question"
   ]
  },
  {
   "cell_type": "code",
   "execution_count": null,
   "id": "12e178d5",
   "metadata": {},
   "outputs": [],
   "source": [
    "polls_question = pd.read_parquet('gs://sprintda05_final_project/votes/polls_question.parquet', engine='pyarrow')"
   ]
  },
  {
   "cell_type": "markdown",
   "id": "9184f8fd",
   "metadata": {},
   "source": [
    "##### polls_questionpiece"
   ]
  },
  {
   "cell_type": "code",
   "execution_count": null,
   "id": "ebf7b103",
   "metadata": {},
   "outputs": [],
   "source": [
    "polls_questionpiece = pd.read_parquet('gs://sprintda05_final_project/votes/polls_questionpiece.parquet', engine='pyarrow')"
   ]
  },
  {
   "cell_type": "markdown",
   "id": "49c4d357",
   "metadata": {},
   "source": [
    "##### polls_questionreport"
   ]
  },
  {
   "cell_type": "code",
   "execution_count": null,
   "id": "e5b707f3",
   "metadata": {},
   "outputs": [],
   "source": [
    "polls_questionreport = pd.read_parquet('gs://sprintda05_final_project/votes/polls_questionreport.parquet', engine='pyarrow')"
   ]
  },
  {
   "cell_type": "markdown",
   "id": "49e6bc4d",
   "metadata": {},
   "source": [
    "##### polls_questionset"
   ]
  },
  {
   "cell_type": "code",
   "execution_count": null,
   "id": "227bf5a7",
   "metadata": {},
   "outputs": [],
   "source": [
    "polls_questionset = pd.read_parquet('gs://sprintda05_final_project/votes/polls_questionset.parquet', engine='pyarrow')"
   ]
  },
  {
   "cell_type": "markdown",
   "id": "0dae0f07",
   "metadata": {},
   "source": [
    "##### polls_usercandidate"
   ]
  },
  {
   "cell_type": "code",
   "execution_count": null,
   "id": "e34ce12b",
   "metadata": {},
   "outputs": [],
   "source": [
    "polls_usercandidate = pd.read_parquet('gs://sprintda05_final_project/votes/polls_usercandidate.parquet', engine='pyarrow')"
   ]
  }
 ],
 "metadata": {
  "kernelspec": {
   "display_name": "Python 3 (ipykernel)",
   "language": "python",
   "name": "python3"
  },
  "language_info": {
   "codemirror_mode": {
    "name": "ipython",
    "version": 3
   },
   "file_extension": ".py",
   "mimetype": "text/x-python",
   "name": "python",
   "nbconvert_exporter": "python",
   "pygments_lexer": "ipython3",
   "version": "3.11.6"
  }
 },
 "nbformat": 4,
 "nbformat_minor": 5
}
