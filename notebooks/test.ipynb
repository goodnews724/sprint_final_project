{
 "cells": [
  {
   "cell_type": "code",
   "execution_count": 2,
   "id": "485c3d16",
   "metadata": {},
   "outputs": [
    {
     "name": "stdout",
     "output_type": "stream",
     "text": [
      "Python 3.11.6\n"
     ]
    }
   ],
   "source": [
    "!python --version"
   ]
  },
  {
   "cell_type": "code",
   "execution_count": null,
   "id": "89d5b0d6",
   "metadata": {},
   "outputs": [],
   "source": [
    "!pip install google-cloud-storage"
   ]
  },
  {
   "cell_type": "code",
   "execution_count": 4,
   "id": "a699e4d0",
   "metadata": {},
   "outputs": [],
   "source": [
    "import pandas as pd"
   ]
  },
  {
   "cell_type": "code",
   "execution_count": null,
   "id": "2dfef8d8",
   "metadata": {},
   "outputs": [],
   "source": [
    "# 빠른 연결 테스트용\n",
    "import os\n",
    "from google.cloud import storage\n",
    "\n",
    "# .env 파일이 docker-compose.yaml의 env_file로 로드되므로\n",
    "# 환경 변수가 이미 설정되어 있음!\n",
    "\n",
    "try:\n",
    "    # 환경 변수 확인\n",
    "    print(f\"키 파일 경로: {os.environ.get('GOOGLE_APPLICATION_CREDENTIALS')}\")\n",
    "    \n",
    "    # 바로 사용 가능\n",
    "    client = storage.Client()\n",
    "    print(f\"✅ 연결 성공! 프로젝트: {client.project}\")\n",
    "    \n",
    "    buckets = list(client.list_buckets())\n",
    "    print(f\"버킷 개수: {len(buckets)}\")\n",
    "    \n",
    "    # 버킷 목록\n",
    "    for bucket in buckets:\n",
    "        print(f\"  - {bucket.name}\")\n",
    "        \n",
    "except Exception as e:\n",
    "    print(f\"❌ 연결 실패: {e}\")\n",
    "\n",
    "\n",
    "# # 안되는사람\n",
    "# # 빠른 연결 테스트용\n",
    "# import os\n",
    "# from google.cloud import storage\n",
    "\n",
    "# # JSON 키 파일 경로 설정\n",
    "# os.environ['GOOGLE_APPLICATION_CREDENTIALS'] = [.env에 작성했던 경로 집어넣기]\n",
    "\n",
    "# try:\n",
    "#     client = storage.Client()\n",
    "#     print(f\"✅ 연결 성공! 프로젝트: {client.project}\")\n",
    "#     buckets = list(client.list_buckets())\n",
    "#     print(f\"버킷 개수: {len(buckets)}\")\n",
    "# except Exception as e:\n",
    "#     print(f\"❌ 연결 실패: {e}\")"
   ]
  },
  {
   "cell_type": "markdown",
   "id": "34b45380",
   "metadata": {},
   "source": [
    "## 호재의 작업 공간"
   ]
  },
  {
   "cell_type": "code",
   "execution_count": 13,
   "id": "b416e83f",
   "metadata": {},
   "outputs": [
    {
     "name": "stdout",
     "output_type": "stream",
     "text": [
      "난 바보다\n"
     ]
    }
   ],
   "source": [
    "print(\"난 바보다\")"
   ]
  },
  {
   "cell_type": "markdown",
   "id": "8cea6b71",
   "metadata": {},
   "source": [
    "## 수진의 작업 공간"
   ]
  },
  {
   "cell_type": "code",
   "execution_count": null,
   "id": "a867e553",
   "metadata": {},
   "outputs": [],
   "source": []
  },
  {
   "cell_type": "markdown",
   "id": "1b30e248",
   "metadata": {},
   "source": [
    "## 우형의 작업 공간"
   ]
  },
  {
   "cell_type": "code",
   "execution_count": null,
   "id": "3ee898b1",
   "metadata": {},
   "outputs": [],
   "source": []
  },
  {
   "cell_type": "markdown",
   "id": "b92180fb",
   "metadata": {},
   "source": [
    "## 준희의 작업 공간"
   ]
  },
  {
   "cell_type": "code",
   "execution_count": null,
   "id": "353065ca",
   "metadata": {},
   "outputs": [],
   "source": []
  },
  {
   "cell_type": "markdown",
   "id": "528573b6",
   "metadata": {},
   "source": [
    "## 재문의 작업 공간"
   ]
  },
  {
   "cell_type": "code",
   "execution_count": null,
   "id": "32cb0608",
   "metadata": {},
   "outputs": [],
   "source": []
  },
  {
   "cell_type": "markdown",
   "id": "cbe0d70a",
   "metadata": {},
   "source": [
    "## 지현의 작업 공간"
   ]
  },
  {
   "cell_type": "code",
   "execution_count": 7,
   "id": "ce25e699",
   "metadata": {},
   "outputs": [
    {
     "name": "stdout",
     "output_type": "stream",
     "text": [
      "난 바보다\n"
     ]
    }
   ],
   "source": [
    "print(\"난 바보다\")"
   ]
  }
 ],
 "metadata": {
  "kernelspec": {
   "display_name": "Python 3 (ipykernel)",
   "language": "python",
   "name": "python3"
  },
  "language_info": {
   "codemirror_mode": {
    "name": "ipython",
    "version": 3
   },
   "file_extension": ".py",
   "mimetype": "text/x-python",
   "name": "python",
   "nbconvert_exporter": "python",
   "pygments_lexer": "ipython3",
   "version": "3.11.6"
  }
 },
 "nbformat": 4,
 "nbformat_minor": 5
}
