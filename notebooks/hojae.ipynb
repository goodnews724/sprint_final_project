{
 "cells": [
  {
   "cell_type": "code",
   "execution_count": 1,
   "id": "3ed0400c",
   "metadata": {},
   "outputs": [
    {
     "name": "stdout",
     "output_type": "stream",
     "text": [
      "키 파일 경로: /home/jovyan/work/secrets/google_cloud_storage_hojae.json\n",
      "✅ 연결 성공! 프로젝트: sprintda05-hojae2\n",
      "버킷 개수: 1\n",
      "  - sprintda05_final_project\n"
     ]
    }
   ],
   "source": [
    "import pandas as pd\n",
    "# 빠른 연결 테스트용\n",
    "import os\n",
    "from google.cloud import storage\n",
    "\n",
    "# .env 파일이 docker-compose.yaml의 env_file로 로드되므로\n",
    "# 환경 변수가 이미 설정되어 있음!\n",
    "\n",
    "try:\n",
    "    # 환경 변수 확인\n",
    "    print(f\"키 파일 경로: {os.environ.get('GOOGLE_APPLICATION_CREDENTIALS')}\")\n",
    "    \n",
    "    # 바로 사용 가능\n",
    "    client = storage.Client()\n",
    "    print(f\"✅ 연결 성공! 프로젝트: {client.project}\")\n",
    "    \n",
    "    buckets = list(client.list_buckets())\n",
    "    print(f\"버킷 개수: {len(buckets)}\")\n",
    "    \n",
    "    # 버킷 목록\n",
    "    for bucket in buckets:\n",
    "        print(f\"  - {bucket.name}\")\n",
    "        \n",
    "except Exception as e:\n",
    "    print(f\"❌ 연결 실패: {e}\")"
   ]
  },
  {
   "cell_type": "code",
   "execution_count": 1,
   "id": "ddf4dcd8",
   "metadata": {},
   "outputs": [
    {
     "name": "stdout",
     "output_type": "stream",
     "text": [
      "\n",
      "--- 2. GCS Parquet 파일 로드 및 형식 확인 ---\n",
      "📂 다음 Parquet 파일을 불러옵니다: gs://sprintda05_final_project/hackle/hackle_events.parquet\n"
     ]
    },
    {
     "ename": "",
     "evalue": "",
     "output_type": "error",
     "traceback": [
      "\u001b[1;31mThe Kernel crashed while executing code in the current cell or a previous cell. \n",
      "\u001b[1;31mPlease review the code in the cell(s) to identify a possible cause of the failure. \n",
      "\u001b[1;31mClick <a href='https://aka.ms/vscodeJupyterKernelCrash'>here</a> for more info. \n",
      "\u001b[1;31mView Jupyter <a href='command:jupyter.viewOutput'>log</a> for further details."
     ]
    },
    {
     "ename": "",
     "evalue": "",
     "output_type": "error",
     "traceback": [
      "\u001b[1;31mCanceled future for execute_request message before replies were done"
     ]
    },
    {
     "ename": "",
     "evalue": "",
     "output_type": "error",
     "traceback": [
      "\u001b[1;31mCanceled future for execute_request message before replies were done. \n",
      "\u001b[1;31mView Jupyter <a href='command:jupyter.viewOutput'>log</a> for further details."
     ]
    }
   ],
   "source": [
    "import os\n",
    "import pandas as pd\n",
    "from google.cloud import storage\n",
    "\n",
    "# GCS에서 Parquet 파일 불러오기 및 형식 확인\n",
    "print(\"\\n--- 2. GCS Parquet 파일 로드 및 형식 확인 ---\")\n",
    "gcs_parquet_path = \"gs://sprintda05_final_project/hackle/hackle_events.parquet\"\n",
    "\n",
    "print(f\"📂 다음 Parquet 파일을 불러옵니다: {gcs_parquet_path}\")\n",
    "\n",
    "# pandas를 사용하여 Parquet 파일 불러오기\n",
    "# 'engine'을 'pyarrow'로 명시하여 확실하게 pyarrow 사용\n",
    "# gcsfs가 설치되어 있다면 pandas는 gs:// 경로를 자동으로 처리\n",
    "df = pd.read_parquet(gcs_parquet_path, engine='pyarrow')\n",
    "\n",
    "print(\"\\n✅ Parquet 파일 로드 성공!\")\n",
    "\n",
    "print(\"\\n--- 데이터프레임 상위 5개 행 (df.head()) ---\")\n",
    "print(df.head())\n",
    "\n",
    "print(\"\\n--- 데이터프레임 정보 (df.info()) ---\")\n",
    "# 각 컬럼의 이름, Non-Null 개수, 데이터 타입(Dtype) 확인\n",
    "df.info()\n",
    "\n",
    "print(\"\\n--- 데이터프레임 기술 통계 (df.describe()) ---\")\n",
    "# 숫자형 컬럼에 대한 통계 정보 확인\n",
    "print(df.describe(include='all')) # 모든 컬럼 타입 포함\n",
    "\n",
    "print(f\"\\n--- 데이터프레임 행과 열 개수 (df.shape): {df.shape} ---\")\n",
    "\n",
    "print(\"\\n--- 데이터프레임 컬럼 목록 (df.columns) ---\")\n",
    "print(df.columns.tolist())"
   ]
  }
 ],
 "metadata": {
  "kernelspec": {
   "display_name": "Python 3 (ipykernel)",
   "language": "python",
   "name": "python3"
  },
  "language_info": {
   "codemirror_mode": {
    "name": "ipython",
    "version": 3
   },
   "file_extension": ".py",
   "mimetype": "text/x-python",
   "name": "python",
   "nbconvert_exporter": "python",
   "pygments_lexer": "ipython3",
   "version": "3.11.6"
  }
 },
 "nbformat": 4,
 "nbformat_minor": 5
}
